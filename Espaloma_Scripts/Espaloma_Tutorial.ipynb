{
 "cells": [
  {
   "cell_type": "code",
   "execution_count": 1,
   "id": "479c0d76-3b6f-4bf8-8bcb-ef1575339efd",
   "metadata": {},
   "outputs": [
    {
     "name": "stderr",
     "output_type": "stream",
     "text": [
      "/Users/Madilyn/miniconda3/envs/ff_generation/lib/python3.10/site-packages/foyer/forcefield.py:33: DeprecationWarning: pkg_resources is deprecated as an API. See https://setuptools.pypa.io/en/latest/pkg_resources.html\n",
      "  from pkg_resources import iter_entry_points, resource_filename\n",
      "/Users/Madilyn/miniconda3/envs/ff_generation/lib/python3.10/site-packages/pkg_resources/__init__.py:3121: DeprecationWarning: Deprecated call to `pkg_resources.declare_namespace('google')`.\n",
      "Implementing implicit namespace packages (as specified in PEP 420) is preferred to `pkg_resources.declare_namespace`. See https://setuptools.pypa.io/en/latest/references/keywords.html#keyword-namespace-packages\n",
      "  declare_namespace(pkg)\n",
      "/Users/Madilyn/miniconda3/envs/ff_generation/lib/python3.10/site-packages/mbuild/packing.py:23: DeprecationWarning: Use shutil.which instead of find_executable\n",
      "  PACKMOL = find_executable(\"packmol\")\n",
      "/Users/Madilyn/miniconda3/envs/ff_generation/lib/python3.10/site-packages/qcelemental/models/results.py:793: DeprecationWarning: ResultProtocols has been renamed to AtomicResultProtocols and will be removed as soon as v0.13.0\n",
      "  warn(\n",
      "/Users/Madilyn/miniconda3/envs/ff_generation/lib/python3.10/site-packages/qcelemental/models/results.py:793: DeprecationWarning: ResultProtocols has been renamed to AtomicResultProtocols and will be removed as soon as v0.13.0\n",
      "  warn(\n",
      "sh: wget: command not found\n"
     ]
    }
   ],
   "source": [
    "import mbuild as mb\n",
    "from functions.Espaloma_Functions import espaloma, build_chain, build_polymer"
   ]
  },
  {
   "cell_type": "markdown",
   "id": "3b1f3ab8-cbcf-47f5-a132-fa54d5a31f0f",
   "metadata": {},
   "source": [
    "### Create mBuild Compound class:  \n",
    "##### We use a class to initialize the mBuild compound so it can store all our polymerization information (i.e. polymer bond indices)"
   ]
  },
  {
   "cell_type": "code",
   "execution_count": 3,
   "id": "a1b3a41d-d4ab-4ad2-902a-82dc4c72c7fe",
   "metadata": {},
   "outputs": [],
   "source": [
    "#create your molecule instance from a class:\n",
    "class P3HT(mb.Compound):\n",
    "    def __init__(self):\n",
    "        super(P3HT,self).__init__()\n",
    "        self.add(mb.load(\"CCCCCCc1ccsc1\",smiles=True)) #smiles string of molecule\n",
    "        self.bond_indices = [24,25] #bond indices where polymerization would occur\n",
    "        self.orientations = [None,None] #orientation of polymer bonds\n",
    "        self.separation = 0.154 #separation of polymer bonds\n",
    "        self.replace = True #true if replacing H's when building polymer\n",
    "        self.energy_minimize()"
   ]
  },
  {
   "cell_type": "code",
   "execution_count": 4,
   "id": "c043cb41-5dff-4853-bb6c-cd5cf38aca70",
   "metadata": {},
   "outputs": [
    {
     "data": {
      "application/3dmoljs_load.v0": "<div id=\"3dmolviewer_17307587690147672\"  style=\"position: relative; width: 640px; height: 480px;\">\n        <p id=\"3dmolwarning_17307587690147672\" style=\"background-color:#ffcccc;color:black\">3Dmol.js failed to load for some reason.  Please check your browser console for error messages.<br></p>\n        </div>\n<script>\n\nvar loadScriptAsync = function(uri){\n  return new Promise((resolve, reject) => {\n    //this is to ignore the existence of requirejs amd\n    var savedexports, savedmodule;\n    if (typeof exports !== 'undefined') savedexports = exports;\n    else exports = {}\n    if (typeof module !== 'undefined') savedmodule = module;\n    else module = {}\n\n    var tag = document.createElement('script');\n    tag.src = uri;\n    tag.async = true;\n    tag.onload = () => {\n        exports = savedexports;\n        module = savedmodule;\n        resolve();\n    };\n  var firstScriptTag = document.getElementsByTagName('script')[0];\n  firstScriptTag.parentNode.insertBefore(tag, firstScriptTag);\n});\n};\n\nif(typeof $3Dmolpromise === 'undefined') {\n$3Dmolpromise = null;\n  $3Dmolpromise = loadScriptAsync('https://cdnjs.cloudflare.com/ajax/libs/3Dmol/2.2.1-post1/3Dmol-min.js');\n}\n\nvar viewer_17307587690147672 = null;\nvar warn = document.getElementById(\"3dmolwarning_17307587690147672\");\nif(warn) {\n    warn.parentNode.removeChild(warn);\n}\n$3Dmolpromise.then(function() {\nviewer_17307587690147672 = $3Dmol.createViewer(document.getElementById(\"3dmolviewer_17307587690147672\"),{backgroundColor:\"white\"});\nviewer_17307587690147672.zoomTo();\n\tviewer_17307587690147672.addModel(\"@<TRIPOS>MOLECULE\\nRES\\n27 27 1 0 1\\nSMALL\\nNO_CHARGES\\n@<TRIPOS>CRYSIN\\n   14.2048     9.5042     9.8838    90.0000    90.0000    90.0000 1 1\\n@<TRIPOS>ATOM\\n       1 C            4.0550    -0.7082     1.0405 C             1 RES     \\n       2 C            2.8156    -0.6683     0.1514 C             1 RES     \\n       3 C            1.7676     0.3073     0.7019 C             1 RES     \\n       4 C            0.5336     0.3479    -0.2077 C             1 RES     \\n       5 C           -0.5023     1.3605     0.3056 C             1 RES     \\n       6 C           -1.7166     1.4577    -0.6320 C             1 RES     \\n       7 C           -2.5010     0.1758    -0.6895 C             1 RES     \\n       8 C           -3.1640    -0.3746     0.4188 C             1 RES     \\n       9 C           -3.8339    -1.5543     0.1311 C             1 RES     \\n      10 S           -3.6016    -1.9127    -1.4944 S             1 RES     \\n      11 C           -2.6539    -0.5722    -1.8526 C             1 RES     \\n      12 H            4.7963    -1.4154     0.6125 H             1 RES     \\n      13 H            4.5191     0.2993     1.1013 H             1 RES     \\n      14 H            3.7855    -1.0493     2.0629 H             1 RES     \\n      15 H            3.1209    -0.3488    -0.8692 H             1 RES     \\n      16 H            2.3823    -1.6901     0.0906 H             1 RES     \\n      17 H            2.2142     1.3239     0.7598 H             1 RES     \\n      18 H            1.4631    -0.0101     1.7232 H             1 RES     \\n      19 H            0.0800    -0.6667    -0.2545 H             1 RES     \\n      20 H            0.8495     0.6460    -1.2319 H             1 RES     \\n      21 H           -0.0244     2.3634     0.3510 H             1 RES     \\n      22 H           -0.8331     1.0880     1.3308 H             1 RES     \\n      23 H           -2.3923     2.2652    -0.2765 H             1 RES     \\n      24 H           -1.3584     1.7382    -1.6473 H             1 RES     \\n      25 H           -3.1606     0.0759     1.4031 H             1 RES     \\n      26 H           -4.4086    -2.1409     0.8348 H             1 RES     \\n      27 H           -2.2321    -0.3374    -2.8209 H             1 RES     \\n@<TRIPOS>BOND\\n       1        1        2 1\\n       2        1       12 1\\n       3        1       13 1\\n       4        1       14 1\\n       5        2        3 1\\n       6        2       15 1\\n       7        2       16 1\\n       8        3        4 1\\n       9        3       17 1\\n      10        3       18 1\\n      11        4        5 1\\n      12        4       19 1\\n      13        4       20 1\\n      14        5        6 1\\n      15        5       21 1\\n      16        5       22 1\\n      17        6        7 1\\n      18        6       23 1\\n      19        6       24 1\\n      20        7        8 1\\n      21        7       11 1\\n      22        8        9 1\\n      23        8       25 1\\n      24        9       10 1\\n      25        9       26 1\\n      26       10       11 1\\n      27       11       27 1\\n@<TRIPOS>SUBSTRUCTURE\\n       1 RES             1 RESIDUE    0 **** ROOT      0\\n\",\"mol2\");\n\tviewer_17307587690147672.setStyle({\"stick\": {\"radius\": 0.18, \"color\": \"grey\"}, \"sphere\": {\"scale\": 0.3, \"colorscheme\": {}}});\n\tviewer_17307587690147672.zoomTo();\nviewer_17307587690147672.render();\n});\n</script>",
      "text/html": [
       "<div id=\"3dmolviewer_17307587690147672\"  style=\"position: relative; width: 640px; height: 480px;\">\n",
       "        <p id=\"3dmolwarning_17307587690147672\" style=\"background-color:#ffcccc;color:black\">3Dmol.js failed to load for some reason.  Please check your browser console for error messages.<br></p>\n",
       "        </div>\n",
       "<script>\n",
       "\n",
       "var loadScriptAsync = function(uri){\n",
       "  return new Promise((resolve, reject) => {\n",
       "    //this is to ignore the existence of requirejs amd\n",
       "    var savedexports, savedmodule;\n",
       "    if (typeof exports !== 'undefined') savedexports = exports;\n",
       "    else exports = {}\n",
       "    if (typeof module !== 'undefined') savedmodule = module;\n",
       "    else module = {}\n",
       "\n",
       "    var tag = document.createElement('script');\n",
       "    tag.src = uri;\n",
       "    tag.async = true;\n",
       "    tag.onload = () => {\n",
       "        exports = savedexports;\n",
       "        module = savedmodule;\n",
       "        resolve();\n",
       "    };\n",
       "  var firstScriptTag = document.getElementsByTagName('script')[0];\n",
       "  firstScriptTag.parentNode.insertBefore(tag, firstScriptTag);\n",
       "});\n",
       "};\n",
       "\n",
       "if(typeof $3Dmolpromise === 'undefined') {\n",
       "$3Dmolpromise = null;\n",
       "  $3Dmolpromise = loadScriptAsync('https://cdnjs.cloudflare.com/ajax/libs/3Dmol/2.2.1-post1/3Dmol-min.js');\n",
       "}\n",
       "\n",
       "var viewer_17307587690147672 = null;\n",
       "var warn = document.getElementById(\"3dmolwarning_17307587690147672\");\n",
       "if(warn) {\n",
       "    warn.parentNode.removeChild(warn);\n",
       "}\n",
       "$3Dmolpromise.then(function() {\n",
       "viewer_17307587690147672 = $3Dmol.createViewer(document.getElementById(\"3dmolviewer_17307587690147672\"),{backgroundColor:\"white\"});\n",
       "viewer_17307587690147672.zoomTo();\n",
       "\tviewer_17307587690147672.addModel(\"@<TRIPOS>MOLECULE\\nRES\\n27 27 1 0 1\\nSMALL\\nNO_CHARGES\\n@<TRIPOS>CRYSIN\\n   14.2048     9.5042     9.8838    90.0000    90.0000    90.0000 1 1\\n@<TRIPOS>ATOM\\n       1 C            4.0550    -0.7082     1.0405 C             1 RES     \\n       2 C            2.8156    -0.6683     0.1514 C             1 RES     \\n       3 C            1.7676     0.3073     0.7019 C             1 RES     \\n       4 C            0.5336     0.3479    -0.2077 C             1 RES     \\n       5 C           -0.5023     1.3605     0.3056 C             1 RES     \\n       6 C           -1.7166     1.4577    -0.6320 C             1 RES     \\n       7 C           -2.5010     0.1758    -0.6895 C             1 RES     \\n       8 C           -3.1640    -0.3746     0.4188 C             1 RES     \\n       9 C           -3.8339    -1.5543     0.1311 C             1 RES     \\n      10 S           -3.6016    -1.9127    -1.4944 S             1 RES     \\n      11 C           -2.6539    -0.5722    -1.8526 C             1 RES     \\n      12 H            4.7963    -1.4154     0.6125 H             1 RES     \\n      13 H            4.5191     0.2993     1.1013 H             1 RES     \\n      14 H            3.7855    -1.0493     2.0629 H             1 RES     \\n      15 H            3.1209    -0.3488    -0.8692 H             1 RES     \\n      16 H            2.3823    -1.6901     0.0906 H             1 RES     \\n      17 H            2.2142     1.3239     0.7598 H             1 RES     \\n      18 H            1.4631    -0.0101     1.7232 H             1 RES     \\n      19 H            0.0800    -0.6667    -0.2545 H             1 RES     \\n      20 H            0.8495     0.6460    -1.2319 H             1 RES     \\n      21 H           -0.0244     2.3634     0.3510 H             1 RES     \\n      22 H           -0.8331     1.0880     1.3308 H             1 RES     \\n      23 H           -2.3923     2.2652    -0.2765 H             1 RES     \\n      24 H           -1.3584     1.7382    -1.6473 H             1 RES     \\n      25 H           -3.1606     0.0759     1.4031 H             1 RES     \\n      26 H           -4.4086    -2.1409     0.8348 H             1 RES     \\n      27 H           -2.2321    -0.3374    -2.8209 H             1 RES     \\n@<TRIPOS>BOND\\n       1        1        2 1\\n       2        1       12 1\\n       3        1       13 1\\n       4        1       14 1\\n       5        2        3 1\\n       6        2       15 1\\n       7        2       16 1\\n       8        3        4 1\\n       9        3       17 1\\n      10        3       18 1\\n      11        4        5 1\\n      12        4       19 1\\n      13        4       20 1\\n      14        5        6 1\\n      15        5       21 1\\n      16        5       22 1\\n      17        6        7 1\\n      18        6       23 1\\n      19        6       24 1\\n      20        7        8 1\\n      21        7       11 1\\n      22        8        9 1\\n      23        8       25 1\\n      24        9       10 1\\n      25        9       26 1\\n      26       10       11 1\\n      27       11       27 1\\n@<TRIPOS>SUBSTRUCTURE\\n       1 RES             1 RESIDUE    0 **** ROOT      0\\n\",\"mol2\");\n",
       "\tviewer_17307587690147672.setStyle({\"stick\": {\"radius\": 0.18, \"color\": \"grey\"}, \"sphere\": {\"scale\": 0.3, \"colorscheme\": {}}});\n",
       "\tviewer_17307587690147672.zoomTo();\n",
       "viewer_17307587690147672.render();\n",
       "});\n",
       "</script>"
      ]
     },
     "metadata": {},
     "output_type": "display_data"
    },
    {
     "data": {
      "text/plain": [
       "<py3Dmol.view at 0x19ec27640>"
      ]
     },
     "execution_count": 4,
     "metadata": {},
     "output_type": "execute_result"
    }
   ],
   "source": [
    "P3HT().visualize()"
   ]
  },
  {
   "cell_type": "markdown",
   "id": "c443ebd8-673f-43ab-8e80-5fb17daffdd1",
   "metadata": {},
   "source": [
    "### Generate Typed mol2 file and XML file with Espaloma:"
   ]
  },
  {
   "cell_type": "markdown",
   "id": "1598baaf-e8c1-46ef-9709-3090105d182c",
   "metadata": {},
   "source": [
    "##### Define the filepath where the XML file and typed mol2 file will be saved. \n",
    "##### The typed mol2 file is a mol2 file of your molecule where the atom names have been replaced with the corresponding atom types in the XML file. \n",
    "##### This typed mol2 file must be used when intializing a simulation where the generated XML file will be used. "
   ]
  },
  {
   "cell_type": "code",
   "execution_count": 5,
   "id": "cd840090-d3dc-4851-a0cb-7e4170d23709",
   "metadata": {},
   "outputs": [
    {
     "name": "stdout",
     "output_type": "stream",
     "text": [
      "Done!\n"
     ]
    },
    {
     "data": {
      "application/vnd.jupyter.widget-view+json": {
       "model_id": "94852e7183f14717b1f79c2e51f39d84",
       "version_major": 2,
       "version_minor": 0
      },
      "text/plain": []
     },
     "metadata": {},
     "output_type": "display_data"
    },
    {
     "name": "stdout",
     "output_type": "stream",
     "text": [
      "Typed mol2 file created.\n",
      "xml file created.\n"
     ]
    }
   ],
   "source": [
    "'''Set the file path where you would like to save your xml file and atom-typed mol2 file'''\n",
    "xml_filepath = \"XML_example.xml\"\n",
    "typed_filepath = \"MOL2_example.mol2\"\n",
    "\n",
    "\n",
    "espaloma(MONOMER=P3HT(),  #Call in your molecule from your molecule class \n",
    "         XML_FILEPATH=xml_filepath,\n",
    "         TYPED_FILEPATH=typed_filepath,\n",
    "         DIMER=False)     #if planning on polymerizing the molecule set = True. "
   ]
  },
  {
   "cell_type": "markdown",
   "id": "10d56a38-49bb-487e-9312-67dbef12cf2f",
   "metadata": {},
   "source": [
    "### Visualize the typed mol2 file\n",
    "##### In order to parameterize our molecules with the generated xml file we have to use the 'typed' mol2 file.\n",
    "This file has renamed the atoms by their corresponding atom type in the xml file."
   ]
  },
  {
   "cell_type": "code",
   "execution_count": 6,
   "id": "c2df0100-4099-4a7e-900d-4d6e6df68942",
   "metadata": {},
   "outputs": [
    {
     "data": {
      "application/3dmoljs_load.v0": "<div id=\"3dmolviewer_1730758776279688\"  style=\"position: relative; width: 640px; height: 480px;\">\n        <p id=\"3dmolwarning_1730758776279688\" style=\"background-color:#ffcccc;color:black\">3Dmol.js failed to load for some reason.  Please check your browser console for error messages.<br></p>\n        </div>\n<script>\n\nvar loadScriptAsync = function(uri){\n  return new Promise((resolve, reject) => {\n    //this is to ignore the existence of requirejs amd\n    var savedexports, savedmodule;\n    if (typeof exports !== 'undefined') savedexports = exports;\n    else exports = {}\n    if (typeof module !== 'undefined') savedmodule = module;\n    else module = {}\n\n    var tag = document.createElement('script');\n    tag.src = uri;\n    tag.async = true;\n    tag.onload = () => {\n        exports = savedexports;\n        module = savedmodule;\n        resolve();\n    };\n  var firstScriptTag = document.getElementsByTagName('script')[0];\n  firstScriptTag.parentNode.insertBefore(tag, firstScriptTag);\n});\n};\n\nif(typeof $3Dmolpromise === 'undefined') {\n$3Dmolpromise = null;\n  $3Dmolpromise = loadScriptAsync('https://cdnjs.cloudflare.com/ajax/libs/3Dmol/2.2.1-post1/3Dmol-min.js');\n}\n\nvar viewer_1730758776279688 = null;\nvar warn = document.getElementById(\"3dmolwarning_1730758776279688\");\nif(warn) {\n    warn.parentNode.removeChild(warn);\n}\n$3Dmolpromise.then(function() {\nviewer_1730758776279688 = $3Dmol.createViewer(document.getElementById(\"3dmolviewer_1730758776279688\"),{backgroundColor:\"white\"});\nviewer_1730758776279688.zoomTo();\n\tviewer_1730758776279688.addModel(\"@<TRIPOS>MOLECULE\\nRES\\n27 27 1 0 1\\nSMALL\\nNO_CHARGES\\n@<TRIPOS>CRYSIN\\n   14.1111     9.5671     9.9408    90.0000    90.0000    90.0000 1 1\\n@<TRIPOS>ATOM\\n       1 C0           4.0400    -0.7001     1.0682 C0            1 RES     \\n       2 C0           2.8055    -0.6753     0.1716 C0            1 RES     \\n       3 C0           1.7644     0.3239     0.6902 C0            1 RES     \\n       4 C0           0.5311     0.3517    -0.2204 C0            1 RES     \\n       5 C0          -0.5013     1.3738     0.2806 C0            1 RES     \\n       6 C0          -1.7245     1.4603    -0.6447 C0            1 RES     \\n       7 C1          -2.5001     0.1724    -0.6971 C1            1 RES     \\n       8 C1          -3.1242    -0.4011     0.4225 C1            1 RES     \\n       9 C1          -3.7881    -1.5859     0.1384 C1            1 RES     \\n      10 S2          -3.6005    -1.9187    -1.4981 S2            1 RES     \\n      11 C1          -2.6776    -0.5632    -1.8645 C1            1 RES     \\n      12 H3           4.7765    -1.4279     0.6671 H3            1 RES     \\n      13 H3           4.5140     0.3041     1.1000 H3            1 RES     \\n      14 H3           3.7622    -1.0059     2.0995 H3            1 RES     \\n      15 H3           3.1168    -0.3892    -0.8567 H3            1 RES     \\n      16 H3           2.3627    -1.6949     0.1400 H3            1 RES     \\n      17 H3           2.2188     1.3390     0.7224 H3            1 RES     \\n      18 H3           1.4557     0.0366     1.7196 H3            1 RES     \\n      19 H3           0.0748    -0.6618    -0.2474 H3            1 RES     \\n      20 H3           0.8453     0.6300    -1.2506 H3            1 RES     \\n      21 H3          -0.0235     2.3777     0.3105 H3            1 RES     \\n      22 H3          -0.8248     1.1146     1.3123 H3            1 RES     \\n      23 H3          -2.4026     2.2611    -0.2788 H3            1 RES     \\n      24 H3          -1.3816     1.7443    -1.6639 H3            1 RES     \\n      25 H4          -3.0968     0.0342     1.4128 H4            1 RES     \\n      26 H5          -4.3346    -2.1894     0.8505 H5            1 RES     \\n      27 H5          -2.2875    -0.3101    -2.8413 H5            1 RES     \\n@<TRIPOS>BOND\\n       1        1        2 1\\n       2        1       12 1\\n       3        1       13 1\\n       4        1       14 1\\n       5        2        3 1\\n       6        2       15 1\\n       7        2       16 1\\n       8        3        4 1\\n       9        3       17 1\\n      10        3       18 1\\n      11        4        5 1\\n      12        4       19 1\\n      13        4       20 1\\n      14        5        6 1\\n      15        5       21 1\\n      16        5       22 1\\n      17        6        7 1\\n      18        6       23 1\\n      19        6       24 1\\n      20        7        8 1\\n      21        7       11 1\\n      22        8        9 1\\n      23        8       25 1\\n      24        9       10 1\\n      25        9       26 1\\n      26       10       11 1\\n      27       11       27 1\\n@<TRIPOS>SUBSTRUCTURE\\n       1 RES             1 RESIDUE    0 **** ROOT      0\\n\",\"mol2\");\n\tviewer_1730758776279688.setStyle({\"stick\": {\"radius\": 0.18, \"color\": \"grey\"}, \"sphere\": {\"scale\": 0.3, \"colorscheme\": {}}});\n\tviewer_1730758776279688.zoomTo();\nviewer_1730758776279688.render();\n});\n</script>",
      "text/html": [
       "<div id=\"3dmolviewer_1730758776279688\"  style=\"position: relative; width: 640px; height: 480px;\">\n",
       "        <p id=\"3dmolwarning_1730758776279688\" style=\"background-color:#ffcccc;color:black\">3Dmol.js failed to load for some reason.  Please check your browser console for error messages.<br></p>\n",
       "        </div>\n",
       "<script>\n",
       "\n",
       "var loadScriptAsync = function(uri){\n",
       "  return new Promise((resolve, reject) => {\n",
       "    //this is to ignore the existence of requirejs amd\n",
       "    var savedexports, savedmodule;\n",
       "    if (typeof exports !== 'undefined') savedexports = exports;\n",
       "    else exports = {}\n",
       "    if (typeof module !== 'undefined') savedmodule = module;\n",
       "    else module = {}\n",
       "\n",
       "    var tag = document.createElement('script');\n",
       "    tag.src = uri;\n",
       "    tag.async = true;\n",
       "    tag.onload = () => {\n",
       "        exports = savedexports;\n",
       "        module = savedmodule;\n",
       "        resolve();\n",
       "    };\n",
       "  var firstScriptTag = document.getElementsByTagName('script')[0];\n",
       "  firstScriptTag.parentNode.insertBefore(tag, firstScriptTag);\n",
       "});\n",
       "};\n",
       "\n",
       "if(typeof $3Dmolpromise === 'undefined') {\n",
       "$3Dmolpromise = null;\n",
       "  $3Dmolpromise = loadScriptAsync('https://cdnjs.cloudflare.com/ajax/libs/3Dmol/2.2.1-post1/3Dmol-min.js');\n",
       "}\n",
       "\n",
       "var viewer_1730758776279688 = null;\n",
       "var warn = document.getElementById(\"3dmolwarning_1730758776279688\");\n",
       "if(warn) {\n",
       "    warn.parentNode.removeChild(warn);\n",
       "}\n",
       "$3Dmolpromise.then(function() {\n",
       "viewer_1730758776279688 = $3Dmol.createViewer(document.getElementById(\"3dmolviewer_1730758776279688\"),{backgroundColor:\"white\"});\n",
       "viewer_1730758776279688.zoomTo();\n",
       "\tviewer_1730758776279688.addModel(\"@<TRIPOS>MOLECULE\\nRES\\n27 27 1 0 1\\nSMALL\\nNO_CHARGES\\n@<TRIPOS>CRYSIN\\n   14.1111     9.5671     9.9408    90.0000    90.0000    90.0000 1 1\\n@<TRIPOS>ATOM\\n       1 C0           4.0400    -0.7001     1.0682 C0            1 RES     \\n       2 C0           2.8055    -0.6753     0.1716 C0            1 RES     \\n       3 C0           1.7644     0.3239     0.6902 C0            1 RES     \\n       4 C0           0.5311     0.3517    -0.2204 C0            1 RES     \\n       5 C0          -0.5013     1.3738     0.2806 C0            1 RES     \\n       6 C0          -1.7245     1.4603    -0.6447 C0            1 RES     \\n       7 C1          -2.5001     0.1724    -0.6971 C1            1 RES     \\n       8 C1          -3.1242    -0.4011     0.4225 C1            1 RES     \\n       9 C1          -3.7881    -1.5859     0.1384 C1            1 RES     \\n      10 S2          -3.6005    -1.9187    -1.4981 S2            1 RES     \\n      11 C1          -2.6776    -0.5632    -1.8645 C1            1 RES     \\n      12 H3           4.7765    -1.4279     0.6671 H3            1 RES     \\n      13 H3           4.5140     0.3041     1.1000 H3            1 RES     \\n      14 H3           3.7622    -1.0059     2.0995 H3            1 RES     \\n      15 H3           3.1168    -0.3892    -0.8567 H3            1 RES     \\n      16 H3           2.3627    -1.6949     0.1400 H3            1 RES     \\n      17 H3           2.2188     1.3390     0.7224 H3            1 RES     \\n      18 H3           1.4557     0.0366     1.7196 H3            1 RES     \\n      19 H3           0.0748    -0.6618    -0.2474 H3            1 RES     \\n      20 H3           0.8453     0.6300    -1.2506 H3            1 RES     \\n      21 H3          -0.0235     2.3777     0.3105 H3            1 RES     \\n      22 H3          -0.8248     1.1146     1.3123 H3            1 RES     \\n      23 H3          -2.4026     2.2611    -0.2788 H3            1 RES     \\n      24 H3          -1.3816     1.7443    -1.6639 H3            1 RES     \\n      25 H4          -3.0968     0.0342     1.4128 H4            1 RES     \\n      26 H5          -4.3346    -2.1894     0.8505 H5            1 RES     \\n      27 H5          -2.2875    -0.3101    -2.8413 H5            1 RES     \\n@<TRIPOS>BOND\\n       1        1        2 1\\n       2        1       12 1\\n       3        1       13 1\\n       4        1       14 1\\n       5        2        3 1\\n       6        2       15 1\\n       7        2       16 1\\n       8        3        4 1\\n       9        3       17 1\\n      10        3       18 1\\n      11        4        5 1\\n      12        4       19 1\\n      13        4       20 1\\n      14        5        6 1\\n      15        5       21 1\\n      16        5       22 1\\n      17        6        7 1\\n      18        6       23 1\\n      19        6       24 1\\n      20        7        8 1\\n      21        7       11 1\\n      22        8        9 1\\n      23        8       25 1\\n      24        9       10 1\\n      25        9       26 1\\n      26       10       11 1\\n      27       11       27 1\\n@<TRIPOS>SUBSTRUCTURE\\n       1 RES             1 RESIDUE    0 **** ROOT      0\\n\",\"mol2\");\n",
       "\tviewer_1730758776279688.setStyle({\"stick\": {\"radius\": 0.18, \"color\": \"grey\"}, \"sphere\": {\"scale\": 0.3, \"colorscheme\": {}}});\n",
       "\tviewer_1730758776279688.zoomTo();\n",
       "viewer_1730758776279688.render();\n",
       "});\n",
       "</script>"
      ]
     },
     "metadata": {},
     "output_type": "display_data"
    }
   ],
   "source": [
    "typed = mb.load(typed_filepath)\n",
    "typed.visualize().show()"
   ]
  },
  {
   "cell_type": "markdown",
   "id": "b0b3a49d-8eac-4509-beab-3acfe2a1dcf9",
   "metadata": {},
   "source": [
    "Visualizing with nglview allows us to determine the indices where we want to make our polymerization bonds. "
   ]
  },
  {
   "cell_type": "code",
   "execution_count": 7,
   "id": "6169605c-314c-43cd-a2d0-419f02803ec1",
   "metadata": {},
   "outputs": [
    {
     "data": {
      "application/vnd.jupyter.widget-view+json": {
       "model_id": "71e7385d5903492bb6df77eae59df454",
       "version_major": 2,
       "version_minor": 0
      },
      "text/plain": [
       "NGLWidget()"
      ]
     },
     "metadata": {},
     "output_type": "display_data"
    }
   ],
   "source": [
    "example = mb.load(typed_filepath)\n",
    "example.visualize(backend='nglview')"
   ]
  },
  {
   "cell_type": "markdown",
   "id": "e733c912-da6e-44bd-9a5a-b2b9bdf7f55a",
   "metadata": {},
   "source": [
    "### Build a polymer from typed mol2 file:"
   ]
  },
  {
   "cell_type": "code",
   "execution_count": 14,
   "id": "18d88a50-75d4-42af-a33f-3072ca5a598a",
   "metadata": {},
   "outputs": [],
   "source": [
    "typed_mol2 = mb.load(typed_filepath)\n",
    "\n",
    "polymer = build_polymer(monomer=typed_mol2,\n",
    "                        length=3,  #length of polymer you want to build\n",
    "                       bond_indices= [25,26], #indices where you want to create your polymer bonds\n",
    "                       separation=0.17,\n",
    "                       replace=True,\n",
    "                       orientations=[None,None],\n",
    "                       min_energy=True)\n",
    "\n",
    "polymer.visualize()\n",
    "polymer.save('Typed_polymer.mol2',overwrite=True)"
   ]
  },
  {
   "cell_type": "code",
   "execution_count": 15,
   "id": "04e176d2-13d4-49bf-9b17-f1c1425cd8d6",
   "metadata": {},
   "outputs": [
    {
     "data": {
      "application/3dmoljs_load.v0": "<div id=\"3dmolviewer_1730758909479907\"  style=\"position: relative; width: 640px; height: 480px;\">\n        <p id=\"3dmolwarning_1730758909479907\" style=\"background-color:#ffcccc;color:black\">3Dmol.js failed to load for some reason.  Please check your browser console for error messages.<br></p>\n        </div>\n<script>\n\nvar loadScriptAsync = function(uri){\n  return new Promise((resolve, reject) => {\n    //this is to ignore the existence of requirejs amd\n    var savedexports, savedmodule;\n    if (typeof exports !== 'undefined') savedexports = exports;\n    else exports = {}\n    if (typeof module !== 'undefined') savedmodule = module;\n    else module = {}\n\n    var tag = document.createElement('script');\n    tag.src = uri;\n    tag.async = true;\n    tag.onload = () => {\n        exports = savedexports;\n        module = savedmodule;\n        resolve();\n    };\n  var firstScriptTag = document.getElementsByTagName('script')[0];\n  firstScriptTag.parentNode.insertBefore(tag, firstScriptTag);\n});\n};\n\nif(typeof $3Dmolpromise === 'undefined') {\n$3Dmolpromise = null;\n  $3Dmolpromise = loadScriptAsync('https://cdnjs.cloudflare.com/ajax/libs/3Dmol/2.2.1-post1/3Dmol-min.js');\n}\n\nvar viewer_1730758909479907 = null;\nvar warn = document.getElementById(\"3dmolwarning_1730758909479907\");\nif(warn) {\n    warn.parentNode.removeChild(warn);\n}\n$3Dmolpromise.then(function() {\nviewer_1730758909479907 = $3Dmol.createViewer(document.getElementById(\"3dmolviewer_1730758909479907\"),{backgroundColor:\"white\"});\nviewer_1730758909479907.zoomTo();\n\tviewer_1730758909479907.addModel(\"@<TRIPOS>MOLECULE\\nRES\\n77 79 1 0 1\\nSMALL\\nNO_CHARGES\\n@<TRIPOS>CRYSIN\\n   16.3523    11.2580    18.7489    90.0000    90.0000    90.0000 1 1\\n@<TRIPOS>ATOM\\n       1 C0           4.0449    -0.7379     1.0339 C0            1 RES     \\n       2 C0           2.8059    -0.6416     0.1483 C0            1 RES     \\n       3 C0           1.7439     0.2653     0.7817 C0            1 RES     \\n       4 C0           0.5166     0.3904    -0.1277 C0            1 RES     \\n       5 C0          -0.5767     1.2483     0.5321 C0            1 RES     \\n       6 C0          -1.7667     1.4840    -0.4122 C0            1 RES     \\n       7 C1          -2.4358     0.1957    -0.8403 C1            1 RES     \\n       8 C1          -3.0703    -0.5944     0.1392 C1            1 RES     \\n       9 C1          -3.6326    -1.7622    -0.3399 C1            1 RES     \\n      10 S2          -3.3440    -1.8349    -1.9843 S2            1 RES     \\n      11 C1          -2.5089    -0.3762    -2.1395 C1            1 RES     \\n      12 H3           4.7898    -1.4118     0.5605 H3            1 RES     \\n      13 H3           4.5041     0.2656     1.1615 H3            1 RES     \\n      14 H3           3.7778    -1.1469     2.0316 H3            1 RES     \\n      15 H3           3.1059    -0.2390    -0.8438 H3            1 RES     \\n      16 H3           2.3840    -1.6610     0.0071 H3            1 RES     \\n      17 H3           2.1731     1.2781     0.9499 H3            1 RES     \\n      18 H3           1.4390    -0.1624     1.7620 H3            1 RES     \\n      19 H3           0.1089    -0.6229    -0.3368 H3            1 RES     \\n      20 H3           0.8280     0.8547    -1.0900 H3            1 RES     \\n      21 H3          -0.1514     2.2421     0.7954 H3            1 RES     \\n      22 H3          -0.9185     0.7607     1.4702 H3            1 RES     \\n      23 H3          -2.5197     2.1277     0.0911 H3            1 RES     \\n      24 H3          -1.3795     2.0649    -1.2394 H3            1 RES     \\n      25 H4          -3.1177    -0.3190     1.1853 H4            1 RES     \\n      26 C0           5.7413     1.0394    -4.1917 C0            1 RES     \\n      27 C0           4.3801     0.7687    -4.8253 C0            1 RES     \\n      28 C0           3.4000     1.9086    -4.5268 C0            1 RES     \\n      29 C0           2.0454     1.6554    -5.1946 C0            1 RES     \\n      30 C0           1.0638     2.8035    -4.9024 C0            1 RES     \\n      31 C0          -0.2736     2.6051    -5.6362 C0            1 RES     \\n      32 C1          -0.9793     1.3477    -5.1827 C1            1 RES     \\n      33 C1          -1.3904     1.2691    -3.8405 C1            1 RES     \\n      34 C1          -1.9840     0.0675    -3.4679 C1            1 RES     \\n      35 S2          -2.0048    -0.8951    -4.8504 S2            1 RES     \\n      36 C1          -1.2707     0.1803    -5.9233 C1            1 RES     \\n      37 H3           6.4327     0.2015    -4.4209 H3            1 RES     \\n      38 H3           6.1737     1.9782    -4.5995 H3            1 RES     \\n      39 H3           5.6433     1.1312    -3.0890 H3            1 RES     \\n      40 H3           4.5129     0.6656    -5.9247 H3            1 RES     \\n      41 H3           3.9765    -0.1866    -4.4235 H3            1 RES     \\n      42 H3           3.8203     2.8630    -4.9137 H3            1 RES     \\n      43 H3           3.2602     1.9964    -3.4265 H3            1 RES     \\n      44 H3           1.6258     0.6970    -4.8172 H3            1 RES     \\n      45 H3           2.1932     1.5709    -6.2942 H3            1 RES     \\n      46 H3           1.5088     3.7596    -5.2543 H3            1 RES     \\n      47 H3           0.9001     2.8865    -3.8063 H3            1 RES     \\n      48 H3          -0.9384     3.4753    -5.4446 H3            1 RES     \\n      49 H3          -0.0358     2.6210    -6.6928 H3            1 RES     \\n      50 H4          -1.2285     2.1093    -3.2076 H4            1 RES     \\n      51 C0           6.4024     0.6003    -9.9148 C0            1 RES     \\n      52 C0           5.0468    -0.0784   -10.0898 C0            1 RES     \\n      53 C0           3.9266     0.9528   -10.2732 C0            1 RES     \\n      54 C0           2.5687     0.2584   -10.4444 C0            1 RES     \\n      55 C0           1.4516     1.2828   -10.6950 C0            1 RES     \\n      56 C0           0.0751     0.6140   -10.8721 C0            1 RES     \\n      57 C1          -0.3890    -0.0730    -9.6130 C1            1 RES     \\n      58 C1          -0.5810     0.6174    -8.4120 C1            1 RES     \\n      59 C1          -0.9979    -0.1837    -7.3461 C1            1 RES     \\n      60 S2          -1.1538    -1.7522    -7.9506 S2            1 RES     \\n      61 C1          -0.6692    -1.4295    -9.5267 C1            1 RES     \\n      62 H3           7.1918    -0.1720    -9.7980 H3            1 RES     \\n      63 H3           6.6424     1.2209   -10.8045 H3            1 RES     \\n      64 H3           6.3976     1.2443    -9.0097 H3            1 RES     \\n      65 H3           5.0912    -0.7380   -10.9841 H3            1 RES     \\n      66 H3           4.8400    -0.7039    -9.1943 H3            1 RES     \\n      67 H3           4.1445     1.5671   -11.1747 H3            1 RES     \\n      68 H3           3.8873     1.6222    -9.3851 H3            1 RES     \\n      69 H3           2.3470    -0.3286    -9.5267 H3            1 RES     \\n      70 H3           2.6158    -0.4351   -11.3120 H3            1 RES     \\n      71 H3           1.6881     1.8451   -11.6243 H3            1 RES     \\n      72 H3           1.4124     2.0136    -9.8580 H3            1 RES     \\n      73 H3          -0.6701     1.3963   -11.1303 H3            1 RES     \\n      74 H3           0.1238    -0.1067   -11.7173 H3            1 RES     \\n      75 H4          -0.4167     1.6722    -8.3898 H4            1 RES     \\n      76 H5          -4.1605    -2.4983     0.2510 H5            1 RES     \\n      77 H5          -0.5926    -2.1504   -10.3303 H5            1 RES     \\n@<TRIPOS>BOND\\n       1        1        2 1\\n       2        1       12 1\\n       3        1       13 1\\n       4        1       14 1\\n       5        2        3 1\\n       6        2       15 1\\n       7        2       16 1\\n       8        3        4 1\\n       9        3       17 1\\n      10        3       18 1\\n      11        4        5 1\\n      12        4       19 1\\n      13        4       20 1\\n      14        5        6 1\\n      15        5       21 1\\n      16        5       22 1\\n      17        6        7 1\\n      18        6       23 1\\n      19        6       24 1\\n      20        7        8 1\\n      21        7       11 1\\n      22        8        9 1\\n      23        8       25 1\\n      24        9       10 1\\n      25        9       76 1\\n      26       10       11 1\\n      27       11       34 1\\n      28       26       27 1\\n      29       26       37 1\\n      30       26       38 1\\n      31       26       39 1\\n      32       27       28 1\\n      33       27       40 1\\n      34       27       41 1\\n      35       28       29 1\\n      36       28       42 1\\n      37       28       43 1\\n      38       29       30 1\\n      39       29       44 1\\n      40       29       45 1\\n      41       30       31 1\\n      42       30       46 1\\n      43       30       47 1\\n      44       31       32 1\\n      45       31       48 1\\n      46       31       49 1\\n      47       32       33 1\\n      48       32       36 1\\n      49       33       34 1\\n      50       33       50 1\\n      51       34       35 1\\n      52       35       36 1\\n      53       36       59 1\\n      54       51       52 1\\n      55       51       62 1\\n      56       51       63 1\\n      57       51       64 1\\n      58       52       53 1\\n      59       52       65 1\\n      60       52       66 1\\n      61       53       54 1\\n      62       53       67 1\\n      63       53       68 1\\n      64       54       55 1\\n      65       54       69 1\\n      66       54       70 1\\n      67       55       56 1\\n      68       55       71 1\\n      69       55       72 1\\n      70       56       57 1\\n      71       56       73 1\\n      72       56       74 1\\n      73       57       58 1\\n      74       57       61 1\\n      75       58       59 1\\n      76       58       75 1\\n      77       59       60 1\\n      78       60       61 1\\n      79       61       77 1\\n@<TRIPOS>SUBSTRUCTURE\\n       1 RES             1 RESIDUE    0 **** ROOT      0\\n\",\"mol2\");\n\tviewer_1730758909479907.setStyle({\"stick\": {\"radius\": 0.18, \"color\": \"grey\"}, \"sphere\": {\"scale\": 0.3, \"colorscheme\": {}}});\n\tviewer_1730758909479907.zoomTo();\nviewer_1730758909479907.render();\n});\n</script>",
      "text/html": [
       "<div id=\"3dmolviewer_1730758909479907\"  style=\"position: relative; width: 640px; height: 480px;\">\n",
       "        <p id=\"3dmolwarning_1730758909479907\" style=\"background-color:#ffcccc;color:black\">3Dmol.js failed to load for some reason.  Please check your browser console for error messages.<br></p>\n",
       "        </div>\n",
       "<script>\n",
       "\n",
       "var loadScriptAsync = function(uri){\n",
       "  return new Promise((resolve, reject) => {\n",
       "    //this is to ignore the existence of requirejs amd\n",
       "    var savedexports, savedmodule;\n",
       "    if (typeof exports !== 'undefined') savedexports = exports;\n",
       "    else exports = {}\n",
       "    if (typeof module !== 'undefined') savedmodule = module;\n",
       "    else module = {}\n",
       "\n",
       "    var tag = document.createElement('script');\n",
       "    tag.src = uri;\n",
       "    tag.async = true;\n",
       "    tag.onload = () => {\n",
       "        exports = savedexports;\n",
       "        module = savedmodule;\n",
       "        resolve();\n",
       "    };\n",
       "  var firstScriptTag = document.getElementsByTagName('script')[0];\n",
       "  firstScriptTag.parentNode.insertBefore(tag, firstScriptTag);\n",
       "});\n",
       "};\n",
       "\n",
       "if(typeof $3Dmolpromise === 'undefined') {\n",
       "$3Dmolpromise = null;\n",
       "  $3Dmolpromise = loadScriptAsync('https://cdnjs.cloudflare.com/ajax/libs/3Dmol/2.2.1-post1/3Dmol-min.js');\n",
       "}\n",
       "\n",
       "var viewer_1730758909479907 = null;\n",
       "var warn = document.getElementById(\"3dmolwarning_1730758909479907\");\n",
       "if(warn) {\n",
       "    warn.parentNode.removeChild(warn);\n",
       "}\n",
       "$3Dmolpromise.then(function() {\n",
       "viewer_1730758909479907 = $3Dmol.createViewer(document.getElementById(\"3dmolviewer_1730758909479907\"),{backgroundColor:\"white\"});\n",
       "viewer_1730758909479907.zoomTo();\n",
       "\tviewer_1730758909479907.addModel(\"@<TRIPOS>MOLECULE\\nRES\\n77 79 1 0 1\\nSMALL\\nNO_CHARGES\\n@<TRIPOS>CRYSIN\\n   16.3523    11.2580    18.7489    90.0000    90.0000    90.0000 1 1\\n@<TRIPOS>ATOM\\n       1 C0           4.0449    -0.7379     1.0339 C0            1 RES     \\n       2 C0           2.8059    -0.6416     0.1483 C0            1 RES     \\n       3 C0           1.7439     0.2653     0.7817 C0            1 RES     \\n       4 C0           0.5166     0.3904    -0.1277 C0            1 RES     \\n       5 C0          -0.5767     1.2483     0.5321 C0            1 RES     \\n       6 C0          -1.7667     1.4840    -0.4122 C0            1 RES     \\n       7 C1          -2.4358     0.1957    -0.8403 C1            1 RES     \\n       8 C1          -3.0703    -0.5944     0.1392 C1            1 RES     \\n       9 C1          -3.6326    -1.7622    -0.3399 C1            1 RES     \\n      10 S2          -3.3440    -1.8349    -1.9843 S2            1 RES     \\n      11 C1          -2.5089    -0.3762    -2.1395 C1            1 RES     \\n      12 H3           4.7898    -1.4118     0.5605 H3            1 RES     \\n      13 H3           4.5041     0.2656     1.1615 H3            1 RES     \\n      14 H3           3.7778    -1.1469     2.0316 H3            1 RES     \\n      15 H3           3.1059    -0.2390    -0.8438 H3            1 RES     \\n      16 H3           2.3840    -1.6610     0.0071 H3            1 RES     \\n      17 H3           2.1731     1.2781     0.9499 H3            1 RES     \\n      18 H3           1.4390    -0.1624     1.7620 H3            1 RES     \\n      19 H3           0.1089    -0.6229    -0.3368 H3            1 RES     \\n      20 H3           0.8280     0.8547    -1.0900 H3            1 RES     \\n      21 H3          -0.1514     2.2421     0.7954 H3            1 RES     \\n      22 H3          -0.9185     0.7607     1.4702 H3            1 RES     \\n      23 H3          -2.5197     2.1277     0.0911 H3            1 RES     \\n      24 H3          -1.3795     2.0649    -1.2394 H3            1 RES     \\n      25 H4          -3.1177    -0.3190     1.1853 H4            1 RES     \\n      26 C0           5.7413     1.0394    -4.1917 C0            1 RES     \\n      27 C0           4.3801     0.7687    -4.8253 C0            1 RES     \\n      28 C0           3.4000     1.9086    -4.5268 C0            1 RES     \\n      29 C0           2.0454     1.6554    -5.1946 C0            1 RES     \\n      30 C0           1.0638     2.8035    -4.9024 C0            1 RES     \\n      31 C0          -0.2736     2.6051    -5.6362 C0            1 RES     \\n      32 C1          -0.9793     1.3477    -5.1827 C1            1 RES     \\n      33 C1          -1.3904     1.2691    -3.8405 C1            1 RES     \\n      34 C1          -1.9840     0.0675    -3.4679 C1            1 RES     \\n      35 S2          -2.0048    -0.8951    -4.8504 S2            1 RES     \\n      36 C1          -1.2707     0.1803    -5.9233 C1            1 RES     \\n      37 H3           6.4327     0.2015    -4.4209 H3            1 RES     \\n      38 H3           6.1737     1.9782    -4.5995 H3            1 RES     \\n      39 H3           5.6433     1.1312    -3.0890 H3            1 RES     \\n      40 H3           4.5129     0.6656    -5.9247 H3            1 RES     \\n      41 H3           3.9765    -0.1866    -4.4235 H3            1 RES     \\n      42 H3           3.8203     2.8630    -4.9137 H3            1 RES     \\n      43 H3           3.2602     1.9964    -3.4265 H3            1 RES     \\n      44 H3           1.6258     0.6970    -4.8172 H3            1 RES     \\n      45 H3           2.1932     1.5709    -6.2942 H3            1 RES     \\n      46 H3           1.5088     3.7596    -5.2543 H3            1 RES     \\n      47 H3           0.9001     2.8865    -3.8063 H3            1 RES     \\n      48 H3          -0.9384     3.4753    -5.4446 H3            1 RES     \\n      49 H3          -0.0358     2.6210    -6.6928 H3            1 RES     \\n      50 H4          -1.2285     2.1093    -3.2076 H4            1 RES     \\n      51 C0           6.4024     0.6003    -9.9148 C0            1 RES     \\n      52 C0           5.0468    -0.0784   -10.0898 C0            1 RES     \\n      53 C0           3.9266     0.9528   -10.2732 C0            1 RES     \\n      54 C0           2.5687     0.2584   -10.4444 C0            1 RES     \\n      55 C0           1.4516     1.2828   -10.6950 C0            1 RES     \\n      56 C0           0.0751     0.6140   -10.8721 C0            1 RES     \\n      57 C1          -0.3890    -0.0730    -9.6130 C1            1 RES     \\n      58 C1          -0.5810     0.6174    -8.4120 C1            1 RES     \\n      59 C1          -0.9979    -0.1837    -7.3461 C1            1 RES     \\n      60 S2          -1.1538    -1.7522    -7.9506 S2            1 RES     \\n      61 C1          -0.6692    -1.4295    -9.5267 C1            1 RES     \\n      62 H3           7.1918    -0.1720    -9.7980 H3            1 RES     \\n      63 H3           6.6424     1.2209   -10.8045 H3            1 RES     \\n      64 H3           6.3976     1.2443    -9.0097 H3            1 RES     \\n      65 H3           5.0912    -0.7380   -10.9841 H3            1 RES     \\n      66 H3           4.8400    -0.7039    -9.1943 H3            1 RES     \\n      67 H3           4.1445     1.5671   -11.1747 H3            1 RES     \\n      68 H3           3.8873     1.6222    -9.3851 H3            1 RES     \\n      69 H3           2.3470    -0.3286    -9.5267 H3            1 RES     \\n      70 H3           2.6158    -0.4351   -11.3120 H3            1 RES     \\n      71 H3           1.6881     1.8451   -11.6243 H3            1 RES     \\n      72 H3           1.4124     2.0136    -9.8580 H3            1 RES     \\n      73 H3          -0.6701     1.3963   -11.1303 H3            1 RES     \\n      74 H3           0.1238    -0.1067   -11.7173 H3            1 RES     \\n      75 H4          -0.4167     1.6722    -8.3898 H4            1 RES     \\n      76 H5          -4.1605    -2.4983     0.2510 H5            1 RES     \\n      77 H5          -0.5926    -2.1504   -10.3303 H5            1 RES     \\n@<TRIPOS>BOND\\n       1        1        2 1\\n       2        1       12 1\\n       3        1       13 1\\n       4        1       14 1\\n       5        2        3 1\\n       6        2       15 1\\n       7        2       16 1\\n       8        3        4 1\\n       9        3       17 1\\n      10        3       18 1\\n      11        4        5 1\\n      12        4       19 1\\n      13        4       20 1\\n      14        5        6 1\\n      15        5       21 1\\n      16        5       22 1\\n      17        6        7 1\\n      18        6       23 1\\n      19        6       24 1\\n      20        7        8 1\\n      21        7       11 1\\n      22        8        9 1\\n      23        8       25 1\\n      24        9       10 1\\n      25        9       76 1\\n      26       10       11 1\\n      27       11       34 1\\n      28       26       27 1\\n      29       26       37 1\\n      30       26       38 1\\n      31       26       39 1\\n      32       27       28 1\\n      33       27       40 1\\n      34       27       41 1\\n      35       28       29 1\\n      36       28       42 1\\n      37       28       43 1\\n      38       29       30 1\\n      39       29       44 1\\n      40       29       45 1\\n      41       30       31 1\\n      42       30       46 1\\n      43       30       47 1\\n      44       31       32 1\\n      45       31       48 1\\n      46       31       49 1\\n      47       32       33 1\\n      48       32       36 1\\n      49       33       34 1\\n      50       33       50 1\\n      51       34       35 1\\n      52       35       36 1\\n      53       36       59 1\\n      54       51       52 1\\n      55       51       62 1\\n      56       51       63 1\\n      57       51       64 1\\n      58       52       53 1\\n      59       52       65 1\\n      60       52       66 1\\n      61       53       54 1\\n      62       53       67 1\\n      63       53       68 1\\n      64       54       55 1\\n      65       54       69 1\\n      66       54       70 1\\n      67       55       56 1\\n      68       55       71 1\\n      69       55       72 1\\n      70       56       57 1\\n      71       56       73 1\\n      72       56       74 1\\n      73       57       58 1\\n      74       57       61 1\\n      75       58       59 1\\n      76       58       75 1\\n      77       59       60 1\\n      78       60       61 1\\n      79       61       77 1\\n@<TRIPOS>SUBSTRUCTURE\\n       1 RES             1 RESIDUE    0 **** ROOT      0\\n\",\"mol2\");\n",
       "\tviewer_1730758909479907.setStyle({\"stick\": {\"radius\": 0.18, \"color\": \"grey\"}, \"sphere\": {\"scale\": 0.3, \"colorscheme\": {}}});\n",
       "\tviewer_1730758909479907.zoomTo();\n",
       "viewer_1730758909479907.render();\n",
       "});\n",
       "</script>"
      ]
     },
     "metadata": {},
     "output_type": "display_data"
    },
    {
     "data": {
      "text/plain": [
       "<py3Dmol.view at 0x1c9615f90>"
      ]
     },
     "execution_count": 15,
     "metadata": {},
     "output_type": "execute_result"
    }
   ],
   "source": [
    "polymer.visualize()"
   ]
  },
  {
   "cell_type": "code",
   "execution_count": null,
   "id": "245de833-c8a9-43f2-a4f9-b37e30e1afc0",
   "metadata": {},
   "outputs": [],
   "source": []
  }
 ],
 "metadata": {
  "kernelspec": {
   "display_name": "Python 3 (ipykernel)",
   "language": "python",
   "name": "python3"
  },
  "language_info": {
   "codemirror_mode": {
    "name": "ipython",
    "version": 3
   },
   "file_extension": ".py",
   "mimetype": "text/x-python",
   "name": "python",
   "nbconvert_exporter": "python",
   "pygments_lexer": "ipython3",
   "version": "3.10.14"
  }
 },
 "nbformat": 4,
 "nbformat_minor": 5
}
