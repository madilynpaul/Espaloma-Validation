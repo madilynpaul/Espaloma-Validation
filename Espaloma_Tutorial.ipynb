{
 "cells": [
  {
   "cell_type": "code",
   "execution_count": 1,
   "id": "479c0d76-3b6f-4bf8-8bcb-ef1575339efd",
   "metadata": {},
   "outputs": [
    {
     "name": "stderr",
     "output_type": "stream",
     "text": [
      "/Users/Madilyn/miniconda3/envs/ff_generation/lib/python3.10/site-packages/foyer/forcefield.py:33: DeprecationWarning: pkg_resources is deprecated as an API. See https://setuptools.pypa.io/en/latest/pkg_resources.html\n",
      "  from pkg_resources import iter_entry_points, resource_filename\n",
      "/Users/Madilyn/miniconda3/envs/ff_generation/lib/python3.10/site-packages/pkg_resources/__init__.py:3121: DeprecationWarning: Deprecated call to `pkg_resources.declare_namespace('google')`.\n",
      "Implementing implicit namespace packages (as specified in PEP 420) is preferred to `pkg_resources.declare_namespace`. See https://setuptools.pypa.io/en/latest/references/keywords.html#keyword-namespace-packages\n",
      "  declare_namespace(pkg)\n",
      "/Users/Madilyn/miniconda3/envs/ff_generation/lib/python3.10/site-packages/mbuild/packing.py:23: DeprecationWarning: Use shutil.which instead of find_executable\n",
      "  PACKMOL = find_executable(\"packmol\")\n",
      "/Users/Madilyn/miniconda3/envs/ff_generation/lib/python3.10/site-packages/qcelemental/models/results.py:793: DeprecationWarning: ResultProtocols has been renamed to AtomicResultProtocols and will be removed as soon as v0.13.0\n",
      "  warn(\n",
      "/Users/Madilyn/miniconda3/envs/ff_generation/lib/python3.10/site-packages/qcelemental/models/results.py:793: DeprecationWarning: ResultProtocols has been renamed to AtomicResultProtocols and will be removed as soon as v0.13.0\n",
      "  warn(\n",
      "sh: wget: command not found\n"
     ]
    }
   ],
   "source": [
    "import mbuild as mb\n",
    "from functions.Espaloma_Functions import espaloma, build_chain, build_polymer"
   ]
  },
  {
   "cell_type": "markdown",
   "id": "3b1f3ab8-cbcf-47f5-a132-fa54d5a31f0f",
   "metadata": {},
   "source": [
    "### Create mBuild Compound class:  \n",
    "##### We use a class to initialize the mBuild compound so it can store all our polymerization information (i.e. polymer bond indices)"
   ]
  },
  {
   "cell_type": "code",
   "execution_count": 2,
   "id": "a1b3a41d-d4ab-4ad2-902a-82dc4c72c7fe",
   "metadata": {},
   "outputs": [],
   "source": [
    "#create your molecule instance from a class:\n",
    "class P3HT(mb.Compound):\n",
    "    def __init__(self):\n",
    "        super(P3HT,self).__init__()\n",
    "        self.add(mb.load(\"CCCCCCc1ccsc1\",smiles=True)) #smiles string of molecule\n",
    "        self.bond_indices = [24,25] #bond indices where polymerization would occur\n",
    "        self.orientations = [None,None] #orientation of polymer bonds\n",
    "        self.separation = 0.154 #separation of polymer bonds\n",
    "        self.replace = True #true if replacing H's when building polymer\n",
    "        self.energy_minimize()"
   ]
  },
  {
   "cell_type": "code",
   "execution_count": 3,
   "id": "c043cb41-5dff-4853-bb6c-cd5cf38aca70",
   "metadata": {},
   "outputs": [
    {
     "data": {
      "application/3dmoljs_load.v0": "<div id=\"3dmolviewer_173066773766391\"  style=\"position: relative; width: 640px; height: 480px;\">\n        <p id=\"3dmolwarning_173066773766391\" style=\"background-color:#ffcccc;color:black\">3Dmol.js failed to load for some reason.  Please check your browser console for error messages.<br></p>\n        </div>\n<script>\n\nvar loadScriptAsync = function(uri){\n  return new Promise((resolve, reject) => {\n    //this is to ignore the existence of requirejs amd\n    var savedexports, savedmodule;\n    if (typeof exports !== 'undefined') savedexports = exports;\n    else exports = {}\n    if (typeof module !== 'undefined') savedmodule = module;\n    else module = {}\n\n    var tag = document.createElement('script');\n    tag.src = uri;\n    tag.async = true;\n    tag.onload = () => {\n        exports = savedexports;\n        module = savedmodule;\n        resolve();\n    };\n  var firstScriptTag = document.getElementsByTagName('script')[0];\n  firstScriptTag.parentNode.insertBefore(tag, firstScriptTag);\n});\n};\n\nif(typeof $3Dmolpromise === 'undefined') {\n$3Dmolpromise = null;\n  $3Dmolpromise = loadScriptAsync('https://cdnjs.cloudflare.com/ajax/libs/3Dmol/2.2.1-post1/3Dmol-min.js');\n}\n\nvar viewer_173066773766391 = null;\nvar warn = document.getElementById(\"3dmolwarning_173066773766391\");\nif(warn) {\n    warn.parentNode.removeChild(warn);\n}\n$3Dmolpromise.then(function() {\nviewer_173066773766391 = $3Dmol.createViewer(document.getElementById(\"3dmolviewer_173066773766391\"),{backgroundColor:\"white\"});\nviewer_173066773766391.zoomTo();\n\tviewer_173066773766391.addModel(\"@<TRIPOS>MOLECULE\\nRES\\n27 27 1 0 1\\nSMALL\\nNO_CHARGES\\n@<TRIPOS>CRYSIN\\n   14.1555     9.5295     9.9445    90.0000    90.0000    90.0000 1 1\\n@<TRIPOS>ATOM\\n       1 C            4.0405    -0.7192     1.0724 C             1 RES     \\n       2 C            2.8079    -0.6816     0.1731 C             1 RES     \\n       3 C            1.7643     0.3075     0.7047 C             1 RES     \\n       4 C            0.5348     0.3482    -0.2110 C             1 RES     \\n       5 C           -0.4983     1.3672     0.2951 C             1 RES     \\n       6 C           -1.7137     1.4680    -0.6401 C             1 RES     \\n       7 C           -2.4981     0.1857    -0.7055 C             1 RES     \\n       8 C           -3.1426    -0.3837     0.4049 C             1 RES     \\n       9 C           -3.8131    -1.5619     0.1097 C             1 RES     \\n      10 S           -3.6045    -1.8950    -1.5243 S             1 RES     \\n      11 C           -2.6648    -0.5470    -1.8761 C             1 RES     \\n      12 H            4.7798    -1.4383     0.6605 H             1 RES     \\n      13 H            4.5121     0.2853     1.1227 H             1 RES     \\n      14 H            3.7606    -1.0431     2.0976 H             1 RES     \\n      15 H            3.1223    -0.3782    -0.8492 H             1 RES     \\n      16 H            2.3675    -1.7013     0.1230 H             1 RES     \\n      17 H            2.2176     1.3221     0.7544 H             1 RES     \\n      18 H            1.4517     0.0041     1.7284 H             1 RES     \\n      19 H            0.0768    -0.6642    -0.2528 H             1 RES     \\n      20 H            0.8550     0.6386    -1.2359 H             1 RES     \\n      21 H           -0.0170     2.3688     0.3389 H             1 RES     \\n      22 H           -0.8301     1.0987     1.3216 H             1 RES     \\n      23 H           -2.3891     2.2711    -0.2764 H             1 RES     \\n      24 H           -1.3592     1.7545    -1.6546 H             1 RES     \\n      25 H           -3.1263     0.0513     1.3955 H             1 RES     \\n      26 H           -4.3757    -2.1607     0.8130 H             1 RES     \\n      27 H           -2.2584    -0.2966    -2.8470 H             1 RES     \\n@<TRIPOS>BOND\\n       1        1        2 1\\n       2        1       12 1\\n       3        1       13 1\\n       4        1       14 1\\n       5        2        3 1\\n       6        2       15 1\\n       7        2       16 1\\n       8        3        4 1\\n       9        3       17 1\\n      10        3       18 1\\n      11        4        5 1\\n      12        4       19 1\\n      13        4       20 1\\n      14        5        6 1\\n      15        5       21 1\\n      16        5       22 1\\n      17        6        7 1\\n      18        6       23 1\\n      19        6       24 1\\n      20        7        8 1\\n      21        7       11 1\\n      22        8        9 1\\n      23        8       25 1\\n      24        9       10 1\\n      25        9       26 1\\n      26       10       11 1\\n      27       11       27 1\\n@<TRIPOS>SUBSTRUCTURE\\n       1 RES             1 RESIDUE    0 **** ROOT      0\\n\",\"mol2\");\n\tviewer_173066773766391.setStyle({\"stick\": {\"radius\": 0.18, \"color\": \"grey\"}, \"sphere\": {\"scale\": 0.3, \"colorscheme\": {}}});\n\tviewer_173066773766391.zoomTo();\nviewer_173066773766391.render();\n});\n</script>",
      "text/html": [
       "<div id=\"3dmolviewer_173066773766391\"  style=\"position: relative; width: 640px; height: 480px;\">\n",
       "        <p id=\"3dmolwarning_173066773766391\" style=\"background-color:#ffcccc;color:black\">3Dmol.js failed to load for some reason.  Please check your browser console for error messages.<br></p>\n",
       "        </div>\n",
       "<script>\n",
       "\n",
       "var loadScriptAsync = function(uri){\n",
       "  return new Promise((resolve, reject) => {\n",
       "    //this is to ignore the existence of requirejs amd\n",
       "    var savedexports, savedmodule;\n",
       "    if (typeof exports !== 'undefined') savedexports = exports;\n",
       "    else exports = {}\n",
       "    if (typeof module !== 'undefined') savedmodule = module;\n",
       "    else module = {}\n",
       "\n",
       "    var tag = document.createElement('script');\n",
       "    tag.src = uri;\n",
       "    tag.async = true;\n",
       "    tag.onload = () => {\n",
       "        exports = savedexports;\n",
       "        module = savedmodule;\n",
       "        resolve();\n",
       "    };\n",
       "  var firstScriptTag = document.getElementsByTagName('script')[0];\n",
       "  firstScriptTag.parentNode.insertBefore(tag, firstScriptTag);\n",
       "});\n",
       "};\n",
       "\n",
       "if(typeof $3Dmolpromise === 'undefined') {\n",
       "$3Dmolpromise = null;\n",
       "  $3Dmolpromise = loadScriptAsync('https://cdnjs.cloudflare.com/ajax/libs/3Dmol/2.2.1-post1/3Dmol-min.js');\n",
       "}\n",
       "\n",
       "var viewer_173066773766391 = null;\n",
       "var warn = document.getElementById(\"3dmolwarning_173066773766391\");\n",
       "if(warn) {\n",
       "    warn.parentNode.removeChild(warn);\n",
       "}\n",
       "$3Dmolpromise.then(function() {\n",
       "viewer_173066773766391 = $3Dmol.createViewer(document.getElementById(\"3dmolviewer_173066773766391\"),{backgroundColor:\"white\"});\n",
       "viewer_173066773766391.zoomTo();\n",
       "\tviewer_173066773766391.addModel(\"@<TRIPOS>MOLECULE\\nRES\\n27 27 1 0 1\\nSMALL\\nNO_CHARGES\\n@<TRIPOS>CRYSIN\\n   14.1555     9.5295     9.9445    90.0000    90.0000    90.0000 1 1\\n@<TRIPOS>ATOM\\n       1 C            4.0405    -0.7192     1.0724 C             1 RES     \\n       2 C            2.8079    -0.6816     0.1731 C             1 RES     \\n       3 C            1.7643     0.3075     0.7047 C             1 RES     \\n       4 C            0.5348     0.3482    -0.2110 C             1 RES     \\n       5 C           -0.4983     1.3672     0.2951 C             1 RES     \\n       6 C           -1.7137     1.4680    -0.6401 C             1 RES     \\n       7 C           -2.4981     0.1857    -0.7055 C             1 RES     \\n       8 C           -3.1426    -0.3837     0.4049 C             1 RES     \\n       9 C           -3.8131    -1.5619     0.1097 C             1 RES     \\n      10 S           -3.6045    -1.8950    -1.5243 S             1 RES     \\n      11 C           -2.6648    -0.5470    -1.8761 C             1 RES     \\n      12 H            4.7798    -1.4383     0.6605 H             1 RES     \\n      13 H            4.5121     0.2853     1.1227 H             1 RES     \\n      14 H            3.7606    -1.0431     2.0976 H             1 RES     \\n      15 H            3.1223    -0.3782    -0.8492 H             1 RES     \\n      16 H            2.3675    -1.7013     0.1230 H             1 RES     \\n      17 H            2.2176     1.3221     0.7544 H             1 RES     \\n      18 H            1.4517     0.0041     1.7284 H             1 RES     \\n      19 H            0.0768    -0.6642    -0.2528 H             1 RES     \\n      20 H            0.8550     0.6386    -1.2359 H             1 RES     \\n      21 H           -0.0170     2.3688     0.3389 H             1 RES     \\n      22 H           -0.8301     1.0987     1.3216 H             1 RES     \\n      23 H           -2.3891     2.2711    -0.2764 H             1 RES     \\n      24 H           -1.3592     1.7545    -1.6546 H             1 RES     \\n      25 H           -3.1263     0.0513     1.3955 H             1 RES     \\n      26 H           -4.3757    -2.1607     0.8130 H             1 RES     \\n      27 H           -2.2584    -0.2966    -2.8470 H             1 RES     \\n@<TRIPOS>BOND\\n       1        1        2 1\\n       2        1       12 1\\n       3        1       13 1\\n       4        1       14 1\\n       5        2        3 1\\n       6        2       15 1\\n       7        2       16 1\\n       8        3        4 1\\n       9        3       17 1\\n      10        3       18 1\\n      11        4        5 1\\n      12        4       19 1\\n      13        4       20 1\\n      14        5        6 1\\n      15        5       21 1\\n      16        5       22 1\\n      17        6        7 1\\n      18        6       23 1\\n      19        6       24 1\\n      20        7        8 1\\n      21        7       11 1\\n      22        8        9 1\\n      23        8       25 1\\n      24        9       10 1\\n      25        9       26 1\\n      26       10       11 1\\n      27       11       27 1\\n@<TRIPOS>SUBSTRUCTURE\\n       1 RES             1 RESIDUE    0 **** ROOT      0\\n\",\"mol2\");\n",
       "\tviewer_173066773766391.setStyle({\"stick\": {\"radius\": 0.18, \"color\": \"grey\"}, \"sphere\": {\"scale\": 0.3, \"colorscheme\": {}}});\n",
       "\tviewer_173066773766391.zoomTo();\n",
       "viewer_173066773766391.render();\n",
       "});\n",
       "</script>"
      ]
     },
     "metadata": {},
     "output_type": "display_data"
    },
    {
     "data": {
      "text/plain": [
       "<py3Dmol.view at 0x19e36f1c0>"
      ]
     },
     "execution_count": 3,
     "metadata": {},
     "output_type": "execute_result"
    }
   ],
   "source": [
    "P3HT().visualize()"
   ]
  },
  {
   "cell_type": "markdown",
   "id": "c443ebd8-673f-43ab-8e80-5fb17daffdd1",
   "metadata": {},
   "source": [
    "### Generate Typed mol2 file and XML file with Espaloma:"
   ]
  },
  {
   "cell_type": "markdown",
   "id": "1598baaf-e8c1-46ef-9709-3090105d182c",
   "metadata": {},
   "source": [
    "##### Define the filepath where the XML file and typed mol2 file will be saved. \n",
    "##### The typed mol2 file is a mol2 file of your molecule where the atom names have been replaced with the corresponding atom types in the XML file. \n",
    "##### This typed mol2 file must be used when intializing a simulation where the generated XML file will be used. "
   ]
  },
  {
   "cell_type": "code",
   "execution_count": 5,
   "id": "cd840090-d3dc-4851-a0cb-7e4170d23709",
   "metadata": {},
   "outputs": [
    {
     "name": "stdout",
     "output_type": "stream",
     "text": [
      "Done!\n",
      "Typed mol2 file created.\n",
      "xml file created.\n"
     ]
    }
   ],
   "source": [
    "'''Set the file path where you would like to save your xml file and atom-typed mol2 file'''\n",
    "xml_filepath = \"XML_example.xml\"\n",
    "typed_filepath = \"MOL2_example.mol2\"\n",
    "\n",
    "\n",
    "espaloma(MONOMER=P3HT(),  #Call in your molecule from your molecule class \n",
    "         XML_FILEPATH=xml_filepath,\n",
    "         TYPED_FILEPATH=typed_filepath,\n",
    "         DIMER=False)     #if planning on polymerizing the molecule set = True. "
   ]
  },
  {
   "cell_type": "markdown",
   "id": "10d56a38-49bb-487e-9312-67dbef12cf2f",
   "metadata": {},
   "source": [
    "### Visualize the typed mol2 file\n",
    "##### In order to parameterize our molecules with the generated xml file we have to use the 'typed' mol2 file.\n",
    "This file has renamed the atoms by their corresponding atom type in the xml file."
   ]
  },
  {
   "cell_type": "code",
   "execution_count": 6,
   "id": "c2df0100-4099-4a7e-900d-4d6e6df68942",
   "metadata": {},
   "outputs": [
    {
     "data": {
      "application/3dmoljs_load.v0": "<div id=\"3dmolviewer_17306677526802418\"  style=\"position: relative; width: 640px; height: 480px;\">\n        <p id=\"3dmolwarning_17306677526802418\" style=\"background-color:#ffcccc;color:black\">3Dmol.js failed to load for some reason.  Please check your browser console for error messages.<br></p>\n        </div>\n<script>\n\nvar loadScriptAsync = function(uri){\n  return new Promise((resolve, reject) => {\n    //this is to ignore the existence of requirejs amd\n    var savedexports, savedmodule;\n    if (typeof exports !== 'undefined') savedexports = exports;\n    else exports = {}\n    if (typeof module !== 'undefined') savedmodule = module;\n    else module = {}\n\n    var tag = document.createElement('script');\n    tag.src = uri;\n    tag.async = true;\n    tag.onload = () => {\n        exports = savedexports;\n        module = savedmodule;\n        resolve();\n    };\n  var firstScriptTag = document.getElementsByTagName('script')[0];\n  firstScriptTag.parentNode.insertBefore(tag, firstScriptTag);\n});\n};\n\nif(typeof $3Dmolpromise === 'undefined') {\n$3Dmolpromise = null;\n  $3Dmolpromise = loadScriptAsync('https://cdnjs.cloudflare.com/ajax/libs/3Dmol/2.2.1-post1/3Dmol-min.js');\n}\n\nvar viewer_17306677526802418 = null;\nvar warn = document.getElementById(\"3dmolwarning_17306677526802418\");\nif(warn) {\n    warn.parentNode.removeChild(warn);\n}\n$3Dmolpromise.then(function() {\nviewer_17306677526802418 = $3Dmol.createViewer(document.getElementById(\"3dmolviewer_17306677526802418\"),{backgroundColor:\"white\"});\nviewer_17306677526802418.zoomTo();\n\tviewer_17306677526802418.addModel(\"@<TRIPOS>MOLECULE\\nRES\\n27 27 1 0 1\\nSMALL\\nNO_CHARGES\\n@<TRIPOS>CRYSIN\\n   14.1854     9.5139     9.9264    90.0000    90.0000    90.0000 1 1\\n@<TRIPOS>ATOM\\n       1 C0           4.0470    -0.7081     1.0656 C0            1 RES     \\n       2 C0           2.8123    -0.6738     0.1699 C0            1 RES     \\n       3 C0           1.7649     0.3098     0.7057 C0            1 RES     \\n       4 C0           0.5346     0.3468    -0.2087 C0            1 RES     \\n       5 C0          -0.5013     1.3640     0.2953 C0            1 RES     \\n       6 C0          -1.7139     1.4595    -0.6441 C0            1 RES     \\n       7 C1          -2.4992     0.1784    -0.7034 C1            1 RES     \\n       8 C1          -3.1564    -0.3775     0.4070 C1            1 RES     \\n       9 C1          -3.8252    -1.5577     0.1187 C1            1 RES     \\n      10 S2          -3.5997    -1.9108    -1.5093 S2            1 RES     \\n      11 C1          -2.6541    -0.5688    -1.8672 C1            1 RES     \\n      12 H3           4.7885    -1.4223     0.6492 H3            1 RES     \\n      13 H3           4.5141     0.2984     1.1181 H3            1 RES     \\n      14 H3           3.7716    -1.0376     2.0903 H3            1 RES     \\n      15 H3           3.1230    -0.3655    -0.8523 H3            1 RES     \\n      16 H3           2.3761    -1.6950     0.1175 H3            1 RES     \\n      17 H3           2.2143     1.3263     0.7565 H3            1 RES     \\n      18 H3           1.4551     0.0035     1.7293 H3            1 RES     \\n      19 H3           0.0794    -0.6670    -0.2497 H3            1 RES     \\n      20 H3           0.8541     0.6370    -1.2338 H3            1 RES     \\n      21 H3          -0.0220     2.3665     0.3373 H3            1 RES     \\n      22 H3          -0.8350     1.0970     1.3213 H3            1 RES     \\n      23 H3          -2.3904     2.2661    -0.2899 H3            1 RES     \\n      24 H3          -1.3550     1.7389    -1.6595 H3            1 RES     \\n      25 H4          -3.1492     0.0691     1.3925 H4            1 RES     \\n      26 H5          -4.3969    -2.1474     0.8225 H5            1 RES     \\n      27 H5          -2.2368    -0.3298    -2.8361 H5            1 RES     \\n@<TRIPOS>BOND\\n       1        1        2 1\\n       2        1       12 1\\n       3        1       13 1\\n       4        1       14 1\\n       5        2        3 1\\n       6        2       15 1\\n       7        2       16 1\\n       8        3        4 1\\n       9        3       17 1\\n      10        3       18 1\\n      11        4        5 1\\n      12        4       19 1\\n      13        4       20 1\\n      14        5        6 1\\n      15        5       21 1\\n      16        5       22 1\\n      17        6        7 1\\n      18        6       23 1\\n      19        6       24 1\\n      20        7        8 1\\n      21        7       11 1\\n      22        8        9 1\\n      23        8       25 1\\n      24        9       10 1\\n      25        9       26 1\\n      26       10       11 1\\n      27       11       27 1\\n@<TRIPOS>SUBSTRUCTURE\\n       1 RES             1 RESIDUE    0 **** ROOT      0\\n\",\"mol2\");\n\tviewer_17306677526802418.setStyle({\"stick\": {\"radius\": 0.18, \"color\": \"grey\"}, \"sphere\": {\"scale\": 0.3, \"colorscheme\": {}}});\n\tviewer_17306677526802418.zoomTo();\nviewer_17306677526802418.render();\n});\n</script>",
      "text/html": [
       "<div id=\"3dmolviewer_17306677526802418\"  style=\"position: relative; width: 640px; height: 480px;\">\n",
       "        <p id=\"3dmolwarning_17306677526802418\" style=\"background-color:#ffcccc;color:black\">3Dmol.js failed to load for some reason.  Please check your browser console for error messages.<br></p>\n",
       "        </div>\n",
       "<script>\n",
       "\n",
       "var loadScriptAsync = function(uri){\n",
       "  return new Promise((resolve, reject) => {\n",
       "    //this is to ignore the existence of requirejs amd\n",
       "    var savedexports, savedmodule;\n",
       "    if (typeof exports !== 'undefined') savedexports = exports;\n",
       "    else exports = {}\n",
       "    if (typeof module !== 'undefined') savedmodule = module;\n",
       "    else module = {}\n",
       "\n",
       "    var tag = document.createElement('script');\n",
       "    tag.src = uri;\n",
       "    tag.async = true;\n",
       "    tag.onload = () => {\n",
       "        exports = savedexports;\n",
       "        module = savedmodule;\n",
       "        resolve();\n",
       "    };\n",
       "  var firstScriptTag = document.getElementsByTagName('script')[0];\n",
       "  firstScriptTag.parentNode.insertBefore(tag, firstScriptTag);\n",
       "});\n",
       "};\n",
       "\n",
       "if(typeof $3Dmolpromise === 'undefined') {\n",
       "$3Dmolpromise = null;\n",
       "  $3Dmolpromise = loadScriptAsync('https://cdnjs.cloudflare.com/ajax/libs/3Dmol/2.2.1-post1/3Dmol-min.js');\n",
       "}\n",
       "\n",
       "var viewer_17306677526802418 = null;\n",
       "var warn = document.getElementById(\"3dmolwarning_17306677526802418\");\n",
       "if(warn) {\n",
       "    warn.parentNode.removeChild(warn);\n",
       "}\n",
       "$3Dmolpromise.then(function() {\n",
       "viewer_17306677526802418 = $3Dmol.createViewer(document.getElementById(\"3dmolviewer_17306677526802418\"),{backgroundColor:\"white\"});\n",
       "viewer_17306677526802418.zoomTo();\n",
       "\tviewer_17306677526802418.addModel(\"@<TRIPOS>MOLECULE\\nRES\\n27 27 1 0 1\\nSMALL\\nNO_CHARGES\\n@<TRIPOS>CRYSIN\\n   14.1854     9.5139     9.9264    90.0000    90.0000    90.0000 1 1\\n@<TRIPOS>ATOM\\n       1 C0           4.0470    -0.7081     1.0656 C0            1 RES     \\n       2 C0           2.8123    -0.6738     0.1699 C0            1 RES     \\n       3 C0           1.7649     0.3098     0.7057 C0            1 RES     \\n       4 C0           0.5346     0.3468    -0.2087 C0            1 RES     \\n       5 C0          -0.5013     1.3640     0.2953 C0            1 RES     \\n       6 C0          -1.7139     1.4595    -0.6441 C0            1 RES     \\n       7 C1          -2.4992     0.1784    -0.7034 C1            1 RES     \\n       8 C1          -3.1564    -0.3775     0.4070 C1            1 RES     \\n       9 C1          -3.8252    -1.5577     0.1187 C1            1 RES     \\n      10 S2          -3.5997    -1.9108    -1.5093 S2            1 RES     \\n      11 C1          -2.6541    -0.5688    -1.8672 C1            1 RES     \\n      12 H3           4.7885    -1.4223     0.6492 H3            1 RES     \\n      13 H3           4.5141     0.2984     1.1181 H3            1 RES     \\n      14 H3           3.7716    -1.0376     2.0903 H3            1 RES     \\n      15 H3           3.1230    -0.3655    -0.8523 H3            1 RES     \\n      16 H3           2.3761    -1.6950     0.1175 H3            1 RES     \\n      17 H3           2.2143     1.3263     0.7565 H3            1 RES     \\n      18 H3           1.4551     0.0035     1.7293 H3            1 RES     \\n      19 H3           0.0794    -0.6670    -0.2497 H3            1 RES     \\n      20 H3           0.8541     0.6370    -1.2338 H3            1 RES     \\n      21 H3          -0.0220     2.3665     0.3373 H3            1 RES     \\n      22 H3          -0.8350     1.0970     1.3213 H3            1 RES     \\n      23 H3          -2.3904     2.2661    -0.2899 H3            1 RES     \\n      24 H3          -1.3550     1.7389    -1.6595 H3            1 RES     \\n      25 H4          -3.1492     0.0691     1.3925 H4            1 RES     \\n      26 H5          -4.3969    -2.1474     0.8225 H5            1 RES     \\n      27 H5          -2.2368    -0.3298    -2.8361 H5            1 RES     \\n@<TRIPOS>BOND\\n       1        1        2 1\\n       2        1       12 1\\n       3        1       13 1\\n       4        1       14 1\\n       5        2        3 1\\n       6        2       15 1\\n       7        2       16 1\\n       8        3        4 1\\n       9        3       17 1\\n      10        3       18 1\\n      11        4        5 1\\n      12        4       19 1\\n      13        4       20 1\\n      14        5        6 1\\n      15        5       21 1\\n      16        5       22 1\\n      17        6        7 1\\n      18        6       23 1\\n      19        6       24 1\\n      20        7        8 1\\n      21        7       11 1\\n      22        8        9 1\\n      23        8       25 1\\n      24        9       10 1\\n      25        9       26 1\\n      26       10       11 1\\n      27       11       27 1\\n@<TRIPOS>SUBSTRUCTURE\\n       1 RES             1 RESIDUE    0 **** ROOT      0\\n\",\"mol2\");\n",
       "\tviewer_17306677526802418.setStyle({\"stick\": {\"radius\": 0.18, \"color\": \"grey\"}, \"sphere\": {\"scale\": 0.3, \"colorscheme\": {}}});\n",
       "\tviewer_17306677526802418.zoomTo();\n",
       "viewer_17306677526802418.render();\n",
       "});\n",
       "</script>"
      ]
     },
     "metadata": {},
     "output_type": "display_data"
    }
   ],
   "source": [
    "typed = mb.load(typed_filepath)\n",
    "typed.visualize().show()"
   ]
  },
  {
   "cell_type": "markdown",
   "id": "b0b3a49d-8eac-4509-beab-3acfe2a1dcf9",
   "metadata": {},
   "source": [
    "Visualizing with nglview allows us to determine the indices where we want to make our polymerization bonds. "
   ]
  },
  {
   "cell_type": "code",
   "execution_count": 7,
   "id": "6169605c-314c-43cd-a2d0-419f02803ec1",
   "metadata": {},
   "outputs": [
    {
     "data": {
      "application/vnd.jupyter.widget-view+json": {
       "model_id": "8c5c7e839b0744dfb99418aa726611dd",
       "version_major": 2,
       "version_minor": 0
      },
      "text/plain": [
       "NGLWidget()"
      ]
     },
     "metadata": {},
     "output_type": "display_data"
    }
   ],
   "source": [
    "example = mb.load(typed_filepath)\n",
    "example.visualize(backend='nglview')"
   ]
  },
  {
   "cell_type": "markdown",
   "id": "e733c912-da6e-44bd-9a5a-b2b9bdf7f55a",
   "metadata": {},
   "source": [
    "### Build a polymer from typed mol2 file:"
   ]
  },
  {
   "cell_type": "code",
   "execution_count": 9,
   "id": "18d88a50-75d4-42af-a33f-3072ca5a598a",
   "metadata": {},
   "outputs": [],
   "source": [
    "typed_mol2 = mb.load(typed_filepath)\n",
    "\n",
    "polymer = build_polymer(monomer=typed_mol2,\n",
    "                        length=10,  #length of polymer you want to build\n",
    "                       bond_indices= [25,26], #indices where you want to create your polymer bonds\n",
    "                       separation=0.17,\n",
    "                       replace=True,\n",
    "                       orientations=[[1,0, 0],[-1 ,0, 0]],\n",
    "                       min_energy=True)\n",
    "\n",
    "polymer.visualize()\n",
    "polymer.save('Typed_polymer.mol2')"
   ]
  },
  {
   "cell_type": "code",
   "execution_count": null,
   "id": "04e176d2-13d4-49bf-9b17-f1c1425cd8d6",
   "metadata": {},
   "outputs": [],
   "source": []
  }
 ],
 "metadata": {
  "kernelspec": {
   "display_name": "Python 3 (ipykernel)",
   "language": "python",
   "name": "python3"
  },
  "language_info": {
   "codemirror_mode": {
    "name": "ipython",
    "version": 3
   },
   "file_extension": ".py",
   "mimetype": "text/x-python",
   "name": "python",
   "nbconvert_exporter": "python",
   "pygments_lexer": "ipython3",
   "version": "3.10.14"
  }
 },
 "nbformat": 4,
 "nbformat_minor": 5
}
