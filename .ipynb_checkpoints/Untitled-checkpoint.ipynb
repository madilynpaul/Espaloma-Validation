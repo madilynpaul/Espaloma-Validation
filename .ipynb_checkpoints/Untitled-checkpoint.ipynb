{
 "cells": [
  {
   "cell_type": "code",
   "execution_count": 1,
   "id": "27519076-94cf-49f5-b2b7-5f477968f640",
   "metadata": {},
   "outputs": [
    {
     "name": "stderr",
     "output_type": "stream",
     "text": [
      "/Users/Madilyn/miniconda3/envs/grits/lib/python3.10/site-packages/foyer/forcefield.py:33: DeprecationWarning: pkg_resources is deprecated as an API. See https://setuptools.pypa.io/en/latest/pkg_resources.html\n",
      "  from pkg_resources import iter_entry_points, resource_filename\n",
      "/Users/Madilyn/miniconda3/envs/grits/lib/python3.10/site-packages/pkg_resources/__init__.py:3144: DeprecationWarning: Deprecated call to `pkg_resources.declare_namespace('google')`.\n",
      "Implementing implicit namespace packages (as specified in PEP 420) is preferred to `pkg_resources.declare_namespace`. See https://setuptools.pypa.io/en/latest/references/keywords.html#keyword-namespace-packages\n",
      "  declare_namespace(pkg)\n",
      "/Users/Madilyn/miniconda3/envs/grits/lib/python3.10/site-packages/mbuild/packing.py:23: DeprecationWarning: Use shutil.which instead of find_executable\n",
      "  PACKMOL = find_executable(\"packmol\")\n"
     ]
    }
   ],
   "source": [
    "import mbuild as mb\n",
    "import numpy as np\n",
    "\n",
    "from grits import backmap\n",
    "from grits import CG_Compound"
   ]
  },
  {
   "cell_type": "code",
   "execution_count": 2,
   "id": "437d341c-822a-4c7e-a96a-151dc36dbb79",
   "metadata": {},
   "outputs": [
    {
     "name": "stderr",
     "output_type": "stream",
     "text": [
      "/Users/Madilyn/miniconda3/envs/grits/lib/python3.10/site-packages/mdtraj/core/trajectory.py:441: UserWarning: top= kwargs ignored since this file parser does not support it\n",
      "  warnings.warn(\"top= kwargs ignored since this file parser does not support it\")\n"
     ]
    }
   ],
   "source": [
    "p3ht = mb.load(\"/Users/Madilyn/Projects/repos/forcefields/mol2files/P3HT.mol2\")\n",
    "\n",
    "p3ht_colors = {\"_B\": \"blue\", \"_S\": \"orange\"}"
   ]
  },
  {
   "cell_type": "code",
   "execution_count": 6,
   "id": "54e432dc-6275-447e-9524-5baa476e9fd3",
   "metadata": {},
   "outputs": [
    {
     "name": "stderr",
     "output_type": "stream",
     "text": [
      "/Users/Madilyn/miniconda3/envs/grits/lib/python3.10/site-packages/mbuild/compound.py:2938: UserWarning: Performing energy minimization using the Open Babel package. Please refer to the documentation to find the appropriate citations for Open Babel and the UFF force field\n",
      "  warn(\n"
     ]
    },
    {
     "data": {
      "application/3dmoljs_load.v0": "<div id=\"3dmolviewer_1730757717538215\"  style=\"position: relative; width: 640px; height: 480px;\">\n        <p id=\"3dmolwarning_1730757717538215\" style=\"background-color:#ffcccc;color:black\">3Dmol.js failed to load for some reason.  Please check your browser console for error messages.<br></p>\n        </div>\n<script>\n\nvar loadScriptAsync = function(uri){\n  return new Promise((resolve, reject) => {\n    //this is to ignore the existence of requirejs amd\n    var savedexports, savedmodule;\n    if (typeof exports !== 'undefined') savedexports = exports;\n    else exports = {}\n    if (typeof module !== 'undefined') savedmodule = module;\n    else module = {}\n\n    var tag = document.createElement('script');\n    tag.src = uri;\n    tag.async = true;\n    tag.onload = () => {\n        exports = savedexports;\n        module = savedmodule;\n        resolve();\n    };\n  var firstScriptTag = document.getElementsByTagName('script')[0];\n  firstScriptTag.parentNode.insertBefore(tag, firstScriptTag);\n});\n};\n\nif(typeof $3Dmolpromise === 'undefined') {\n$3Dmolpromise = null;\n  $3Dmolpromise = loadScriptAsync('https://cdnjs.cloudflare.com/ajax/libs/3Dmol/2.3.0/3Dmol-min.js');\n}\n\nvar viewer_1730757717538215 = null;\nvar warn = document.getElementById(\"3dmolwarning_1730757717538215\");\nif(warn) {\n    warn.parentNode.removeChild(warn);\n}\n$3Dmolpromise.then(function() {\nviewer_1730757717538215 = $3Dmol.createViewer(document.getElementById(\"3dmolviewer_1730757717538215\"),{backgroundColor:\"white\"});\nviewer_1730757717538215.zoomTo();\n\tviewer_1730757717538215.addModel(\"@<TRIPOS>MOLECULE\\nRES\\n27 27 1 0 1\\nSMALL\\nNO_CHARGES\\n@<TRIPOS>CRYSIN\\n   13.8253     9.4602     9.3057    90.0000    90.0000    90.0000 1 1\\n@<TRIPOS>ATOM\\n       1 C0          14.1662    10.6759    10.2675 C0            1 RES     \\n       2 C0          12.7792    10.5474     9.6450 C0            1 RES     \\n       3 C0          11.8557     9.6923    10.5207 C0            1 RES     \\n       4 C0          10.4664     9.5653     9.8859 C0            1 RES     \\n       5 C0           9.5370     8.7041    10.7553 C0            1 RES     \\n       6 C0           8.1490     8.5308    10.1194 C0            1 RES     \\n       7 C1           7.4207     9.8391     9.9681 C1            1 RES     \\n       8 C1           7.0691    10.6492    11.0439 C1            1 RES     \\n       9 S2           6.2777    12.0051    10.4452 S2            1 RES     \\n      10 C1           6.3712    11.5796     8.8221 C1            1 RES     \\n      11 C1           7.0271    10.3611     8.7259 C1            1 RES     \\n      12 H3          14.8113    11.2985     9.6122 H3            1 RES     \\n      13 H3          14.6334     9.6742    10.3785 H3            1 RES     \\n      14 H3          14.0983    11.1606    11.2647 H3            1 RES     \\n      15 H3          12.8792    10.0805     8.6408 H3            1 RES     \\n      16 H3          12.3442    11.5636     9.5243 H3            1 RES     \\n      17 H3          12.2986     8.6789    10.6410 H3            1 RES     \\n      18 H3          11.7599    10.1630    11.5241 H3            1 RES     \\n      19 H3          10.0302    10.5811     9.7650 H3            1 RES     \\n      20 H3          10.5640     9.0965     8.8819 H3            1 RES     \\n      21 H3           9.9898     7.6957    10.8761 H3            1 RES     \\n      22 H3           9.4336     9.1592    11.7644 H3            1 RES     \\n      23 H3           7.5365     7.8586    10.7578 H3            1 RES     \\n      24 H3           8.2689     8.0426     9.1273 H3            1 RES     \\n      25 H4           7.2164     9.8679     7.7815 H4            1 RES     \\n      26 H5           7.2684    10.4439    12.0871 H5            1 RES     \\n      27 H5           5.9861    12.1559     7.9917 H5            1 RES     \\n@<TRIPOS>BOND\\n       1        1        2 1\\n       2        1       12 1\\n       3        1       13 1\\n       4        1       14 1\\n       5        2        3 1\\n       6        2       15 1\\n       7        2       16 1\\n       8        3        4 1\\n       9        3       17 1\\n      10        3       18 1\\n      11        4        5 1\\n      12        4       19 1\\n      13        4       20 1\\n      14        5        6 1\\n      15        5       21 1\\n      16        5       22 1\\n      17        6        7 1\\n      18        6       23 1\\n      19        6       24 1\\n      20        7        8 1\\n      21        7       11 1\\n      22        8        9 1\\n      23        8       26 1\\n      24        9       10 1\\n      25       10       11 1\\n      26       10       27 1\\n      27       11       25 1\\n@<TRIPOS>SUBSTRUCTURE\\n       1 RES             1 RESIDUE    0 **** ROOT      0\\n\",\"mol2\");\n\tviewer_1730757717538215.setStyle({\"stick\": {\"radius\": 0.18, \"color\": \"grey\"}, \"sphere\": {\"scale\": 0.3, \"colorscheme\": {}}});\n\tviewer_1730757717538215.zoomTo();\nviewer_1730757717538215.render();\n});\n</script>",
      "text/html": [
       "<div id=\"3dmolviewer_1730757717538215\"  style=\"position: relative; width: 640px; height: 480px;\">\n",
       "        <p id=\"3dmolwarning_1730757717538215\" style=\"background-color:#ffcccc;color:black\">3Dmol.js failed to load for some reason.  Please check your browser console for error messages.<br></p>\n",
       "        </div>\n",
       "<script>\n",
       "\n",
       "var loadScriptAsync = function(uri){\n",
       "  return new Promise((resolve, reject) => {\n",
       "    //this is to ignore the existence of requirejs amd\n",
       "    var savedexports, savedmodule;\n",
       "    if (typeof exports !== 'undefined') savedexports = exports;\n",
       "    else exports = {}\n",
       "    if (typeof module !== 'undefined') savedmodule = module;\n",
       "    else module = {}\n",
       "\n",
       "    var tag = document.createElement('script');\n",
       "    tag.src = uri;\n",
       "    tag.async = true;\n",
       "    tag.onload = () => {\n",
       "        exports = savedexports;\n",
       "        module = savedmodule;\n",
       "        resolve();\n",
       "    };\n",
       "  var firstScriptTag = document.getElementsByTagName('script')[0];\n",
       "  firstScriptTag.parentNode.insertBefore(tag, firstScriptTag);\n",
       "});\n",
       "};\n",
       "\n",
       "if(typeof $3Dmolpromise === 'undefined') {\n",
       "$3Dmolpromise = null;\n",
       "  $3Dmolpromise = loadScriptAsync('https://cdnjs.cloudflare.com/ajax/libs/3Dmol/2.3.0/3Dmol-min.js');\n",
       "}\n",
       "\n",
       "var viewer_1730757717538215 = null;\n",
       "var warn = document.getElementById(\"3dmolwarning_1730757717538215\");\n",
       "if(warn) {\n",
       "    warn.parentNode.removeChild(warn);\n",
       "}\n",
       "$3Dmolpromise.then(function() {\n",
       "viewer_1730757717538215 = $3Dmol.createViewer(document.getElementById(\"3dmolviewer_1730757717538215\"),{backgroundColor:\"white\"});\n",
       "viewer_1730757717538215.zoomTo();\n",
       "\tviewer_1730757717538215.addModel(\"@<TRIPOS>MOLECULE\\nRES\\n27 27 1 0 1\\nSMALL\\nNO_CHARGES\\n@<TRIPOS>CRYSIN\\n   13.8253     9.4602     9.3057    90.0000    90.0000    90.0000 1 1\\n@<TRIPOS>ATOM\\n       1 C0          14.1662    10.6759    10.2675 C0            1 RES     \\n       2 C0          12.7792    10.5474     9.6450 C0            1 RES     \\n       3 C0          11.8557     9.6923    10.5207 C0            1 RES     \\n       4 C0          10.4664     9.5653     9.8859 C0            1 RES     \\n       5 C0           9.5370     8.7041    10.7553 C0            1 RES     \\n       6 C0           8.1490     8.5308    10.1194 C0            1 RES     \\n       7 C1           7.4207     9.8391     9.9681 C1            1 RES     \\n       8 C1           7.0691    10.6492    11.0439 C1            1 RES     \\n       9 S2           6.2777    12.0051    10.4452 S2            1 RES     \\n      10 C1           6.3712    11.5796     8.8221 C1            1 RES     \\n      11 C1           7.0271    10.3611     8.7259 C1            1 RES     \\n      12 H3          14.8113    11.2985     9.6122 H3            1 RES     \\n      13 H3          14.6334     9.6742    10.3785 H3            1 RES     \\n      14 H3          14.0983    11.1606    11.2647 H3            1 RES     \\n      15 H3          12.8792    10.0805     8.6408 H3            1 RES     \\n      16 H3          12.3442    11.5636     9.5243 H3            1 RES     \\n      17 H3          12.2986     8.6789    10.6410 H3            1 RES     \\n      18 H3          11.7599    10.1630    11.5241 H3            1 RES     \\n      19 H3          10.0302    10.5811     9.7650 H3            1 RES     \\n      20 H3          10.5640     9.0965     8.8819 H3            1 RES     \\n      21 H3           9.9898     7.6957    10.8761 H3            1 RES     \\n      22 H3           9.4336     9.1592    11.7644 H3            1 RES     \\n      23 H3           7.5365     7.8586    10.7578 H3            1 RES     \\n      24 H3           8.2689     8.0426     9.1273 H3            1 RES     \\n      25 H4           7.2164     9.8679     7.7815 H4            1 RES     \\n      26 H5           7.2684    10.4439    12.0871 H5            1 RES     \\n      27 H5           5.9861    12.1559     7.9917 H5            1 RES     \\n@<TRIPOS>BOND\\n       1        1        2 1\\n       2        1       12 1\\n       3        1       13 1\\n       4        1       14 1\\n       5        2        3 1\\n       6        2       15 1\\n       7        2       16 1\\n       8        3        4 1\\n       9        3       17 1\\n      10        3       18 1\\n      11        4        5 1\\n      12        4       19 1\\n      13        4       20 1\\n      14        5        6 1\\n      15        5       21 1\\n      16        5       22 1\\n      17        6        7 1\\n      18        6       23 1\\n      19        6       24 1\\n      20        7        8 1\\n      21        7       11 1\\n      22        8        9 1\\n      23        8       26 1\\n      24        9       10 1\\n      25       10       11 1\\n      26       10       27 1\\n      27       11       25 1\\n@<TRIPOS>SUBSTRUCTURE\\n       1 RES             1 RESIDUE    0 **** ROOT      0\\n\",\"mol2\");\n",
       "\tviewer_1730757717538215.setStyle({\"stick\": {\"radius\": 0.18, \"color\": \"grey\"}, \"sphere\": {\"scale\": 0.3, \"colorscheme\": {}}});\n",
       "\tviewer_1730757717538215.zoomTo();\n",
       "viewer_1730757717538215.render();\n",
       "});\n",
       "</script>"
      ]
     },
     "metadata": {},
     "output_type": "display_data"
    },
    {
     "data": {
      "text/plain": [
       "<py3Dmol.view at 0x13e0b7880>"
      ]
     },
     "execution_count": 6,
     "metadata": {},
     "output_type": "execute_result"
    }
   ],
   "source": [
    "p3ht.energy_minimize()\n",
    "p3ht.visualize()"
   ]
  },
  {
   "cell_type": "code",
   "execution_count": 5,
   "id": "7564c709-bf9d-4473-83f8-1349a2bfcff3",
   "metadata": {},
   "outputs": [
    {
     "name": "stderr",
     "output_type": "stream",
     "text": [
      "/Users/Madilyn/Projects/repos/grits/grits/coarsegrain.py:192: UserWarning: Some atoms have been left out of coarse-graining!\n",
      "  warn(f\"Some atoms have been left out of coarse-graining!\")\n"
     ]
    },
    {
     "data": {
      "application/3dmoljs_load.v0": "<div id=\"3dmolviewer_17307576883434172\"  style=\"position: relative; width: 640px; height: 480px;\">\n        <p id=\"3dmolwarning_17307576883434172\" style=\"background-color:#ffcccc;color:black\">3Dmol.js failed to load for some reason.  Please check your browser console for error messages.<br></p>\n        </div>\n<script>\n\nvar loadScriptAsync = function(uri){\n  return new Promise((resolve, reject) => {\n    //this is to ignore the existence of requirejs amd\n    var savedexports, savedmodule;\n    if (typeof exports !== 'undefined') savedexports = exports;\n    else exports = {}\n    if (typeof module !== 'undefined') savedmodule = module;\n    else module = {}\n\n    var tag = document.createElement('script');\n    tag.src = uri;\n    tag.async = true;\n    tag.onload = () => {\n        exports = savedexports;\n        module = savedmodule;\n        resolve();\n    };\n  var firstScriptTag = document.getElementsByTagName('script')[0];\n  firstScriptTag.parentNode.insertBefore(tag, firstScriptTag);\n});\n};\n\nif(typeof $3Dmolpromise === 'undefined') {\n$3Dmolpromise = null;\n  $3Dmolpromise = loadScriptAsync('https://cdnjs.cloudflare.com/ajax/libs/3Dmol/2.3.0/3Dmol-min.js');\n}\n\nvar viewer_17307576883434172 = null;\nvar warn = document.getElementById(\"3dmolwarning_17307576883434172\");\nif(warn) {\n    warn.parentNode.removeChild(warn);\n}\n$3Dmolpromise.then(function() {\nviewer_17307576883434172 = $3Dmol.createViewer(document.getElementById(\"3dmolviewer_17307576883434172\"),{backgroundColor:\"white\"});\nviewer_17307576883434172.zoomTo();\n\tviewer_17307576883434172.addModel(\"@<TRIPOS>MOLECULE\\nRES\\n27 27 1 0 1\\nSMALL\\nNO_CHARGES\\n@<TRIPOS>CRYSIN\\n   13.8222     9.4718     9.3109    90.0000    90.0000    90.0000 1 1\\n@<TRIPOS>ATOM\\n       1 C0          14.1713    10.6638    10.2575 C0            1 RES     \\n       2 C0          12.7816    10.5396     9.6397 C0            1 RES     \\n       3 C0          11.8555     9.6942    10.5225 C0            1 RES     \\n       4 C0          10.4652     9.5693     9.8894 C0            1 RES     \\n       5 C0           9.5345     8.7093    10.7585 C0            1 RES     \\n       6 C0           8.1488     8.5349    10.1180 C0            1 RES     \\n       7 C1           7.4178     9.8420     9.9706 C1            1 RES     \\n       8 C1           7.0527    10.6406    11.0504 C1            1 RES     \\n       9 S2           6.2624    11.9995    10.4564 S2            1 RES     \\n      10 C1           6.3741    11.5898     8.8302 C1            1 RES     \\n      11 C1           7.0354    10.3740     8.7296 C1            1 RES     \\n      12 H3          14.8183    11.2776     9.5959 H3            1 RES     \\n      13 H3          14.6325     9.6595    10.3735 H3            1 RES     \\n      14 H3          14.1093    11.1550    11.2515 H3            1 RES     \\n      15 H3          12.8767    10.0661     8.6379 H3            1 RES     \\n      16 H3          12.3520    11.5574     9.5139 H3            1 RES     \\n      17 H3          12.2944     8.6797    10.6472 H3            1 RES     \\n      18 H3          11.7630    10.1704    11.5235 H3            1 RES     \\n      19 H3          10.0306    10.5856     9.7667 H3            1 RES     \\n      20 H3          10.5621     9.0987     8.8861 H3            1 RES     \\n      21 H3           9.9875     7.7008    10.8798 H3            1 RES     \\n      22 H3           9.4290     9.1641    11.7676 H3            1 RES     \\n      23 H3           7.5352     7.8577    10.7499 H3            1 RES     \\n      24 H3           8.2742     8.0520     9.1238 H3            1 RES     \\n      25 H4           7.2362     9.8904     7.7826 H4            1 RES     \\n      26 H5           7.2416    10.4260    12.0935 H5            1 RES     \\n      27 H5           5.9961    12.1726     8.0013 H5            1 RES     \\n@<TRIPOS>BOND\\n       1        1        2 1\\n       2        1       12 1\\n       3        1       13 1\\n       4        1       14 1\\n       5        2        3 1\\n       6        2       15 1\\n       7        2       16 1\\n       8        3        4 1\\n       9        3       17 1\\n      10        3       18 1\\n      11        4        5 1\\n      12        4       19 1\\n      13        4       20 1\\n      14        5        6 1\\n      15        5       21 1\\n      16        5       22 1\\n      17        6        7 1\\n      18        6       23 1\\n      19        6       24 1\\n      20        7        8 1\\n      21        7       11 1\\n      22        8        9 1\\n      23        8       26 1\\n      24        9       10 1\\n      25       10       11 1\\n      26       10       27 1\\n      27       11       25 1\\n@<TRIPOS>SUBSTRUCTURE\\n       1 RES             1 RESIDUE    0 **** ROOT      0\\n\",\"mol2\");\n\tviewer_17307576883434172.setStyle({\"stick\": {\"radius\": 0.2, \"opacity\": 0.6, \"color\": \"grey\"}, \"sphere\": {\"scale\": 0.3, \"opacity\": 0.6, \"colorscheme\": {\"_b\": \"blue\", \"_B\": \"blue\", \"_s\": \"orange\", \"_S\": \"orange\"}}});\n\tviewer_17307576883434172.addModel(\"@<TRIPOS>MOLECULE\\nRES\\n1 0 1 0 1\\nSMALL\\nNO_CHARGES\\n@<TRIPOS>CRYSIN\\n   15.0000    15.0000    15.0000    90.0000    90.0000    90.0000 1 1\\n@<TRIPOS>ATOM\\n       1 _B           6.8270    10.8669     9.6143 _B            1 RES     \\n@<TRIPOS>BOND\\n@<TRIPOS>SUBSTRUCTURE\\n       1 RES             1 RESIDUE    0 **** ROOT      0\\n\",\"mol2\");\n\tviewer_17307576883434172.setStyle({\"atom\": [\"_B\"]},{\"stick\": {\"radius\": 0.13999999999999999, \"opacity\": 1, \"color\": \"grey\"}, \"sphere\": {\"scale\": 0.7, \"opacity\": 1, \"colorscheme\": {\"_b\": \"blue\", \"_B\": \"blue\", \"_s\": \"orange\", \"_S\": \"orange\"}}});\n\tviewer_17307576883434172.zoomTo();\nviewer_17307576883434172.render();\n});\n</script>",
      "text/html": [
       "<div id=\"3dmolviewer_17307576883434172\"  style=\"position: relative; width: 640px; height: 480px;\">\n",
       "        <p id=\"3dmolwarning_17307576883434172\" style=\"background-color:#ffcccc;color:black\">3Dmol.js failed to load for some reason.  Please check your browser console for error messages.<br></p>\n",
       "        </div>\n",
       "<script>\n",
       "\n",
       "var loadScriptAsync = function(uri){\n",
       "  return new Promise((resolve, reject) => {\n",
       "    //this is to ignore the existence of requirejs amd\n",
       "    var savedexports, savedmodule;\n",
       "    if (typeof exports !== 'undefined') savedexports = exports;\n",
       "    else exports = {}\n",
       "    if (typeof module !== 'undefined') savedmodule = module;\n",
       "    else module = {}\n",
       "\n",
       "    var tag = document.createElement('script');\n",
       "    tag.src = uri;\n",
       "    tag.async = true;\n",
       "    tag.onload = () => {\n",
       "        exports = savedexports;\n",
       "        module = savedmodule;\n",
       "        resolve();\n",
       "    };\n",
       "  var firstScriptTag = document.getElementsByTagName('script')[0];\n",
       "  firstScriptTag.parentNode.insertBefore(tag, firstScriptTag);\n",
       "});\n",
       "};\n",
       "\n",
       "if(typeof $3Dmolpromise === 'undefined') {\n",
       "$3Dmolpromise = null;\n",
       "  $3Dmolpromise = loadScriptAsync('https://cdnjs.cloudflare.com/ajax/libs/3Dmol/2.3.0/3Dmol-min.js');\n",
       "}\n",
       "\n",
       "var viewer_17307576883434172 = null;\n",
       "var warn = document.getElementById(\"3dmolwarning_17307576883434172\");\n",
       "if(warn) {\n",
       "    warn.parentNode.removeChild(warn);\n",
       "}\n",
       "$3Dmolpromise.then(function() {\n",
       "viewer_17307576883434172 = $3Dmol.createViewer(document.getElementById(\"3dmolviewer_17307576883434172\"),{backgroundColor:\"white\"});\n",
       "viewer_17307576883434172.zoomTo();\n",
       "\tviewer_17307576883434172.addModel(\"@<TRIPOS>MOLECULE\\nRES\\n27 27 1 0 1\\nSMALL\\nNO_CHARGES\\n@<TRIPOS>CRYSIN\\n   13.8222     9.4718     9.3109    90.0000    90.0000    90.0000 1 1\\n@<TRIPOS>ATOM\\n       1 C0          14.1713    10.6638    10.2575 C0            1 RES     \\n       2 C0          12.7816    10.5396     9.6397 C0            1 RES     \\n       3 C0          11.8555     9.6942    10.5225 C0            1 RES     \\n       4 C0          10.4652     9.5693     9.8894 C0            1 RES     \\n       5 C0           9.5345     8.7093    10.7585 C0            1 RES     \\n       6 C0           8.1488     8.5349    10.1180 C0            1 RES     \\n       7 C1           7.4178     9.8420     9.9706 C1            1 RES     \\n       8 C1           7.0527    10.6406    11.0504 C1            1 RES     \\n       9 S2           6.2624    11.9995    10.4564 S2            1 RES     \\n      10 C1           6.3741    11.5898     8.8302 C1            1 RES     \\n      11 C1           7.0354    10.3740     8.7296 C1            1 RES     \\n      12 H3          14.8183    11.2776     9.5959 H3            1 RES     \\n      13 H3          14.6325     9.6595    10.3735 H3            1 RES     \\n      14 H3          14.1093    11.1550    11.2515 H3            1 RES     \\n      15 H3          12.8767    10.0661     8.6379 H3            1 RES     \\n      16 H3          12.3520    11.5574     9.5139 H3            1 RES     \\n      17 H3          12.2944     8.6797    10.6472 H3            1 RES     \\n      18 H3          11.7630    10.1704    11.5235 H3            1 RES     \\n      19 H3          10.0306    10.5856     9.7667 H3            1 RES     \\n      20 H3          10.5621     9.0987     8.8861 H3            1 RES     \\n      21 H3           9.9875     7.7008    10.8798 H3            1 RES     \\n      22 H3           9.4290     9.1641    11.7676 H3            1 RES     \\n      23 H3           7.5352     7.8577    10.7499 H3            1 RES     \\n      24 H3           8.2742     8.0520     9.1238 H3            1 RES     \\n      25 H4           7.2362     9.8904     7.7826 H4            1 RES     \\n      26 H5           7.2416    10.4260    12.0935 H5            1 RES     \\n      27 H5           5.9961    12.1726     8.0013 H5            1 RES     \\n@<TRIPOS>BOND\\n       1        1        2 1\\n       2        1       12 1\\n       3        1       13 1\\n       4        1       14 1\\n       5        2        3 1\\n       6        2       15 1\\n       7        2       16 1\\n       8        3        4 1\\n       9        3       17 1\\n      10        3       18 1\\n      11        4        5 1\\n      12        4       19 1\\n      13        4       20 1\\n      14        5        6 1\\n      15        5       21 1\\n      16        5       22 1\\n      17        6        7 1\\n      18        6       23 1\\n      19        6       24 1\\n      20        7        8 1\\n      21        7       11 1\\n      22        8        9 1\\n      23        8       26 1\\n      24        9       10 1\\n      25       10       11 1\\n      26       10       27 1\\n      27       11       25 1\\n@<TRIPOS>SUBSTRUCTURE\\n       1 RES             1 RESIDUE    0 **** ROOT      0\\n\",\"mol2\");\n",
       "\tviewer_17307576883434172.setStyle({\"stick\": {\"radius\": 0.2, \"opacity\": 0.6, \"color\": \"grey\"}, \"sphere\": {\"scale\": 0.3, \"opacity\": 0.6, \"colorscheme\": {\"_b\": \"blue\", \"_B\": \"blue\", \"_s\": \"orange\", \"_S\": \"orange\"}}});\n",
       "\tviewer_17307576883434172.addModel(\"@<TRIPOS>MOLECULE\\nRES\\n1 0 1 0 1\\nSMALL\\nNO_CHARGES\\n@<TRIPOS>CRYSIN\\n   15.0000    15.0000    15.0000    90.0000    90.0000    90.0000 1 1\\n@<TRIPOS>ATOM\\n       1 _B           6.8270    10.8669     9.6143 _B            1 RES     \\n@<TRIPOS>BOND\\n@<TRIPOS>SUBSTRUCTURE\\n       1 RES             1 RESIDUE    0 **** ROOT      0\\n\",\"mol2\");\n",
       "\tviewer_17307576883434172.setStyle({\"atom\": [\"_B\"]},{\"stick\": {\"radius\": 0.13999999999999999, \"opacity\": 1, \"color\": \"grey\"}, \"sphere\": {\"scale\": 0.7, \"opacity\": 1, \"colorscheme\": {\"_b\": \"blue\", \"_B\": \"blue\", \"_s\": \"orange\", \"_S\": \"orange\"}}});\n",
       "\tviewer_17307576883434172.zoomTo();\n",
       "viewer_17307576883434172.render();\n",
       "});\n",
       "</script>"
      ]
     },
     "metadata": {},
     "output_type": "display_data"
    },
    {
     "data": {
      "application/3dmoljs_load.v0": "<div id=\"3dmolviewer_1730757688347394\"  style=\"position: relative; width: 640px; height: 480px;\">\n        <p id=\"3dmolwarning_1730757688347394\" style=\"background-color:#ffcccc;color:black\">3Dmol.js failed to load for some reason.  Please check your browser console for error messages.<br></p>\n        </div>\n<script>\n\nvar loadScriptAsync = function(uri){\n  return new Promise((resolve, reject) => {\n    //this is to ignore the existence of requirejs amd\n    var savedexports, savedmodule;\n    if (typeof exports !== 'undefined') savedexports = exports;\n    else exports = {}\n    if (typeof module !== 'undefined') savedmodule = module;\n    else module = {}\n\n    var tag = document.createElement('script');\n    tag.src = uri;\n    tag.async = true;\n    tag.onload = () => {\n        exports = savedexports;\n        module = savedmodule;\n        resolve();\n    };\n  var firstScriptTag = document.getElementsByTagName('script')[0];\n  firstScriptTag.parentNode.insertBefore(tag, firstScriptTag);\n});\n};\n\nif(typeof $3Dmolpromise === 'undefined') {\n$3Dmolpromise = null;\n  $3Dmolpromise = loadScriptAsync('https://cdnjs.cloudflare.com/ajax/libs/3Dmol/2.3.0/3Dmol-min.js');\n}\n\nvar viewer_1730757688347394 = null;\nvar warn = document.getElementById(\"3dmolwarning_1730757688347394\");\nif(warn) {\n    warn.parentNode.removeChild(warn);\n}\n$3Dmolpromise.then(function() {\nviewer_1730757688347394 = $3Dmol.createViewer(document.getElementById(\"3dmolviewer_1730757688347394\"),{backgroundColor:\"white\"});\nviewer_1730757688347394.zoomTo();\n\tviewer_1730757688347394.addModel(\"@<TRIPOS>MOLECULE\\nRES\\n1 0 1 0 1\\nSMALL\\nNO_CHARGES\\n@<TRIPOS>CRYSIN\\n   15.0000    15.0000    15.0000    90.0000    90.0000    90.0000 1 1\\n@<TRIPOS>ATOM\\n       1 _B           6.8270    10.8669     9.6143 _B            1 RES     \\n@<TRIPOS>BOND\\n@<TRIPOS>SUBSTRUCTURE\\n       1 RES             1 RESIDUE    0 **** ROOT      0\\n\",\"mol2\");\n\tviewer_1730757688347394.setStyle({\"atom\": [\"_B\"]},{\"stick\": {\"radius\": 0.13999999999999999, \"opacity\": 1, \"color\": \"grey\"}, \"sphere\": {\"scale\": 0.7, \"opacity\": 1, \"colorscheme\": {\"_b\": \"blue\", \"_B\": \"blue\", \"_s\": \"orange\", \"_S\": \"orange\"}}});\n\tviewer_1730757688347394.zoomTo();\nviewer_1730757688347394.render();\n});\n</script>",
      "text/html": [
       "<div id=\"3dmolviewer_1730757688347394\"  style=\"position: relative; width: 640px; height: 480px;\">\n",
       "        <p id=\"3dmolwarning_1730757688347394\" style=\"background-color:#ffcccc;color:black\">3Dmol.js failed to load for some reason.  Please check your browser console for error messages.<br></p>\n",
       "        </div>\n",
       "<script>\n",
       "\n",
       "var loadScriptAsync = function(uri){\n",
       "  return new Promise((resolve, reject) => {\n",
       "    //this is to ignore the existence of requirejs amd\n",
       "    var savedexports, savedmodule;\n",
       "    if (typeof exports !== 'undefined') savedexports = exports;\n",
       "    else exports = {}\n",
       "    if (typeof module !== 'undefined') savedmodule = module;\n",
       "    else module = {}\n",
       "\n",
       "    var tag = document.createElement('script');\n",
       "    tag.src = uri;\n",
       "    tag.async = true;\n",
       "    tag.onload = () => {\n",
       "        exports = savedexports;\n",
       "        module = savedmodule;\n",
       "        resolve();\n",
       "    };\n",
       "  var firstScriptTag = document.getElementsByTagName('script')[0];\n",
       "  firstScriptTag.parentNode.insertBefore(tag, firstScriptTag);\n",
       "});\n",
       "};\n",
       "\n",
       "if(typeof $3Dmolpromise === 'undefined') {\n",
       "$3Dmolpromise = null;\n",
       "  $3Dmolpromise = loadScriptAsync('https://cdnjs.cloudflare.com/ajax/libs/3Dmol/2.3.0/3Dmol-min.js');\n",
       "}\n",
       "\n",
       "var viewer_1730757688347394 = null;\n",
       "var warn = document.getElementById(\"3dmolwarning_1730757688347394\");\n",
       "if(warn) {\n",
       "    warn.parentNode.removeChild(warn);\n",
       "}\n",
       "$3Dmolpromise.then(function() {\n",
       "viewer_1730757688347394 = $3Dmol.createViewer(document.getElementById(\"3dmolviewer_1730757688347394\"),{backgroundColor:\"white\"});\n",
       "viewer_1730757688347394.zoomTo();\n",
       "\tviewer_1730757688347394.addModel(\"@<TRIPOS>MOLECULE\\nRES\\n1 0 1 0 1\\nSMALL\\nNO_CHARGES\\n@<TRIPOS>CRYSIN\\n   15.0000    15.0000    15.0000    90.0000    90.0000    90.0000 1 1\\n@<TRIPOS>ATOM\\n       1 _B           6.8270    10.8669     9.6143 _B            1 RES     \\n@<TRIPOS>BOND\\n@<TRIPOS>SUBSTRUCTURE\\n       1 RES             1 RESIDUE    0 **** ROOT      0\\n\",\"mol2\");\n",
       "\tviewer_1730757688347394.setStyle({\"atom\": [\"_B\"]},{\"stick\": {\"radius\": 0.13999999999999999, \"opacity\": 1, \"color\": \"grey\"}, \"sphere\": {\"scale\": 0.7, \"opacity\": 1, \"colorscheme\": {\"_b\": \"blue\", \"_B\": \"blue\", \"_s\": \"orange\", \"_S\": \"orange\"}}});\n",
       "\tviewer_1730757688347394.zoomTo();\n",
       "viewer_1730757688347394.render();\n",
       "});\n",
       "</script>"
      ]
     },
     "metadata": {},
     "output_type": "display_data"
    }
   ],
   "source": [
    "cg_beads = {\"_B\": \"c1sccc1\"}\n",
    "\n",
    "cg_p3ht = CG_Compound(p3ht, cg_beads)\n",
    "\n",
    "cg_p3ht.visualize(color_scheme=p3ht_colors, show_atomistic=True).show()\n",
    "cg_p3ht.visualize(color_scheme=p3ht_colors).show()\n"
   ]
  },
  {
   "cell_type": "code",
   "execution_count": null,
   "id": "94e31c41-cb8b-47a6-97b1-e804434b256f",
   "metadata": {},
   "outputs": [],
   "source": []
  }
 ],
 "metadata": {
  "kernelspec": {
   "display_name": "Python 3 (ipykernel)",
   "language": "python",
   "name": "python3"
  },
  "language_info": {
   "codemirror_mode": {
    "name": "ipython",
    "version": 3
   },
   "file_extension": ".py",
   "mimetype": "text/x-python",
   "name": "python",
   "nbconvert_exporter": "python",
   "pygments_lexer": "ipython3",
   "version": "3.10.14"
  }
 },
 "nbformat": 4,
 "nbformat_minor": 5
}
