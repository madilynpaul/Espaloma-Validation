{
 "cells": [
  {
   "cell_type": "code",
   "execution_count": 1,
   "id": "27519076-94cf-49f5-b2b7-5f477968f640",
   "metadata": {},
   "outputs": [
    {
     "name": "stderr",
     "output_type": "stream",
     "text": [
      "/Users/Madilyn/miniconda3/envs/grits/lib/python3.10/site-packages/foyer/forcefield.py:33: DeprecationWarning: pkg_resources is deprecated as an API. See https://setuptools.pypa.io/en/latest/pkg_resources.html\n",
      "  from pkg_resources import iter_entry_points, resource_filename\n",
      "/Users/Madilyn/miniconda3/envs/grits/lib/python3.10/site-packages/pkg_resources/__init__.py:3144: DeprecationWarning: Deprecated call to `pkg_resources.declare_namespace('google')`.\n",
      "Implementing implicit namespace packages (as specified in PEP 420) is preferred to `pkg_resources.declare_namespace`. See https://setuptools.pypa.io/en/latest/references/keywords.html#keyword-namespace-packages\n",
      "  declare_namespace(pkg)\n",
      "/Users/Madilyn/miniconda3/envs/grits/lib/python3.10/site-packages/mbuild/packing.py:23: DeprecationWarning: Use shutil.which instead of find_executable\n",
      "  PACKMOL = find_executable(\"packmol\")\n"
     ]
    }
   ],
   "source": [
    "import mbuild as mb\n",
    "import numpy as np\n",
    "\n",
    "from grits import backmap\n",
    "from grits import CG_Compound"
   ]
  },
  {
   "cell_type": "code",
   "execution_count": 16,
   "id": "437d341c-822a-4c7e-a96a-151dc36dbb79",
   "metadata": {},
   "outputs": [
    {
     "name": "stderr",
     "output_type": "stream",
     "text": [
      "/Users/Madilyn/miniconda3/envs/grits/lib/python3.10/site-packages/mdtraj/core/trajectory.py:441: UserWarning: top= kwargs ignored since this file parser does not support it\n",
      "  warnings.warn(\"top= kwargs ignored since this file parser does not support it\")\n"
     ]
    }
   ],
   "source": [
    "per = mb.load(\"/Users/Madilyn/Projects/repos/forcefields/mol2files/perylene.mol2\")\n",
    "\n",
    "p3ht_colors = {\"_B\": \"blue\", \"_S\": \"orange\"}"
   ]
  },
  {
   "cell_type": "code",
   "execution_count": 17,
   "id": "3bf108d7-e44e-4ee9-a99d-76ebebcaf0f3",
   "metadata": {},
   "outputs": [
    {
     "name": "stderr",
     "output_type": "stream",
     "text": [
      "/Users/Madilyn/miniconda3/envs/grits/lib/python3.10/site-packages/mbuild/conversion.py:1849: UserWarning: The bond orders will be guessed using pybelOBMol.PerceviedBondOrders()\n",
      "  warn(\n"
     ]
    },
    {
     "data": {
      "text/plain": [
       "'c1cc2cccc3c4cccc5cccc(c(c1)c23)c45'"
      ]
     },
     "execution_count": 17,
     "metadata": {},
     "output_type": "execute_result"
    }
   ],
   "source": [
    "per.to_smiles()"
   ]
  },
  {
   "cell_type": "code",
   "execution_count": 18,
   "id": "54e432dc-6275-447e-9524-5baa476e9fd3",
   "metadata": {},
   "outputs": [
    {
     "name": "stderr",
     "output_type": "stream",
     "text": [
      "/Users/Madilyn/miniconda3/envs/grits/lib/python3.10/site-packages/mbuild/compound.py:2938: UserWarning: Performing energy minimization using the Open Babel package. Please refer to the documentation to find the appropriate citations for Open Babel and the UFF force field\n",
      "  warn(\n"
     ]
    },
    {
     "data": {
      "application/3dmoljs_load.v0": "<div id=\"3dmolviewer_1730759632290794\"  style=\"position: relative; width: 640px; height: 480px;\">\n        <p id=\"3dmolwarning_1730759632290794\" style=\"background-color:#ffcccc;color:black\">3Dmol.js failed to load for some reason.  Please check your browser console for error messages.<br></p>\n        </div>\n<script>\n\nvar loadScriptAsync = function(uri){\n  return new Promise((resolve, reject) => {\n    //this is to ignore the existence of requirejs amd\n    var savedexports, savedmodule;\n    if (typeof exports !== 'undefined') savedexports = exports;\n    else exports = {}\n    if (typeof module !== 'undefined') savedmodule = module;\n    else module = {}\n\n    var tag = document.createElement('script');\n    tag.src = uri;\n    tag.async = true;\n    tag.onload = () => {\n        exports = savedexports;\n        module = savedmodule;\n        resolve();\n    };\n  var firstScriptTag = document.getElementsByTagName('script')[0];\n  firstScriptTag.parentNode.insertBefore(tag, firstScriptTag);\n});\n};\n\nif(typeof $3Dmolpromise === 'undefined') {\n$3Dmolpromise = null;\n  $3Dmolpromise = loadScriptAsync('https://cdnjs.cloudflare.com/ajax/libs/3Dmol/2.3.0/3Dmol-min.js');\n}\n\nvar viewer_1730759632290794 = null;\nvar warn = document.getElementById(\"3dmolwarning_1730759632290794\");\nif(warn) {\n    warn.parentNode.removeChild(warn);\n}\n$3Dmolpromise.then(function() {\nviewer_1730759632290794 = $3Dmol.createViewer(document.getElementById(\"3dmolviewer_1730759632290794\"),{backgroundColor:\"white\"});\nviewer_1730759632290794.zoomTo();\n\tviewer_1730759632290794.addModel(\"@<TRIPOS>MOLECULE\\nRES\\n32 36 1 0 1\\nSMALL\\nNO_CHARGES\\n@<TRIPOS>CRYSIN\\n   14.3262    11.8686     5.5766    90.0000    90.0000    90.0000 1 1\\n@<TRIPOS>ATOM\\n       1 C0           2.9346    -2.3178     0.0145 C0            1 RES     \\n       2 C0           3.5794    -1.0951    -0.0880 C0            1 RES     \\n       3 C0           2.8367     0.0842    -0.1895 C0            1 RES     \\n       4 C0           3.5082     1.3054    -0.2918 C0            1 RES     \\n       5 C0           2.7920     2.4879    -0.3931 C0            1 RES     \\n       6 C0           1.4002     2.4716    -0.3942 C0            1 RES     \\n       7 C0           0.6754     1.2552    -0.2930 C0            1 RES     \\n       8 C0          -0.7487     1.2130    -0.2929 C0            1 RES     \\n       9 C0          -1.5443     2.3843    -0.3931 C0            1 RES     \\n      10 C0          -2.9346     2.3180    -0.3919 C0            1 RES     \\n      11 C0          -3.5794     1.0951    -0.2920 C0            1 RES     \\n      12 C0          -2.8368    -0.0843    -0.1908 C0            1 RES     \\n      13 C0          -3.5082    -1.3057    -0.0910 C0            1 RES     \\n      14 C0          -2.7920    -2.4881     0.0107 C0            1 RES     \\n      15 C0          -1.4002    -2.4716     0.0144 C0            1 RES     \\n      16 C0          -0.6754    -1.2551    -0.0853 C0            1 RES     \\n      17 C0           0.7486    -1.2128    -0.0845 C0            1 RES     \\n      18 C0           1.5443    -2.3840     0.0169 C0            1 RES     \\n      19 C0           1.4130     0.0420    -0.1890 C0            1 RES     \\n      20 C0          -1.4129    -0.0419    -0.1896 C0            1 RES     \\n      21 H1           3.5180    -3.2267     0.0931 H1            1 RES     \\n      22 H1           4.6631    -1.0713    -0.0878 H1            1 RES     \\n      23 H1           4.5914     1.3458    -0.2933 H1            1 RES     \\n      24 H1           3.3205     3.4296    -0.4719 H1            1 RES     \\n      25 H1           0.9280     3.4343    -0.4766 H1            1 RES     \\n      26 H1          -1.1300     3.3734    -0.4744 H1            1 RES     \\n      27 H1          -3.5180     3.2269    -0.4696 H1            1 RES     \\n      28 H1          -4.6631     1.0711    -0.2937 H1            1 RES     \\n      29 H1          -4.5913    -1.3462    -0.0916 H1            1 RES     \\n      30 H1          -3.3205    -3.4300     0.0877 H1            1 RES     \\n      31 H1          -0.9280    -3.4343     0.0967 H1            1 RES     \\n      32 H1           1.1299    -3.3730     0.0999 H1            1 RES     \\n@<TRIPOS>BOND\\n       1        1        2 1\\n       2        1       18 1\\n       3        1       21 1\\n       4        2        3 1\\n       5        2       22 1\\n       6        3        4 1\\n       7        3       19 1\\n       8        4        5 1\\n       9        4       23 1\\n      10        5        6 1\\n      11        5       24 1\\n      12        6        7 1\\n      13        6       25 1\\n      14        7        8 1\\n      15        7       19 1\\n      16        8        9 1\\n      17        8       20 1\\n      18        9       10 1\\n      19        9       26 1\\n      20       10       11 1\\n      21       10       27 1\\n      22       11       12 1\\n      23       11       28 1\\n      24       12       13 1\\n      25       12       20 1\\n      26       13       14 1\\n      27       13       29 1\\n      28       14       15 1\\n      29       14       30 1\\n      30       15       16 1\\n      31       15       31 1\\n      32       16       17 1\\n      33       16       20 1\\n      34       17       18 1\\n      35       17       19 1\\n      36       18       32 1\\n@<TRIPOS>SUBSTRUCTURE\\n       1 RES             1 RESIDUE    0 **** ROOT      0\\n\",\"mol2\");\n\tviewer_1730759632290794.setStyle({\"stick\": {\"radius\": 0.18, \"color\": \"grey\"}, \"sphere\": {\"scale\": 0.3, \"colorscheme\": {}}});\n\tviewer_1730759632290794.zoomTo();\nviewer_1730759632290794.render();\n});\n</script>",
      "text/html": [
       "<div id=\"3dmolviewer_1730759632290794\"  style=\"position: relative; width: 640px; height: 480px;\">\n",
       "        <p id=\"3dmolwarning_1730759632290794\" style=\"background-color:#ffcccc;color:black\">3Dmol.js failed to load for some reason.  Please check your browser console for error messages.<br></p>\n",
       "        </div>\n",
       "<script>\n",
       "\n",
       "var loadScriptAsync = function(uri){\n",
       "  return new Promise((resolve, reject) => {\n",
       "    //this is to ignore the existence of requirejs amd\n",
       "    var savedexports, savedmodule;\n",
       "    if (typeof exports !== 'undefined') savedexports = exports;\n",
       "    else exports = {}\n",
       "    if (typeof module !== 'undefined') savedmodule = module;\n",
       "    else module = {}\n",
       "\n",
       "    var tag = document.createElement('script');\n",
       "    tag.src = uri;\n",
       "    tag.async = true;\n",
       "    tag.onload = () => {\n",
       "        exports = savedexports;\n",
       "        module = savedmodule;\n",
       "        resolve();\n",
       "    };\n",
       "  var firstScriptTag = document.getElementsByTagName('script')[0];\n",
       "  firstScriptTag.parentNode.insertBefore(tag, firstScriptTag);\n",
       "});\n",
       "};\n",
       "\n",
       "if(typeof $3Dmolpromise === 'undefined') {\n",
       "$3Dmolpromise = null;\n",
       "  $3Dmolpromise = loadScriptAsync('https://cdnjs.cloudflare.com/ajax/libs/3Dmol/2.3.0/3Dmol-min.js');\n",
       "}\n",
       "\n",
       "var viewer_1730759632290794 = null;\n",
       "var warn = document.getElementById(\"3dmolwarning_1730759632290794\");\n",
       "if(warn) {\n",
       "    warn.parentNode.removeChild(warn);\n",
       "}\n",
       "$3Dmolpromise.then(function() {\n",
       "viewer_1730759632290794 = $3Dmol.createViewer(document.getElementById(\"3dmolviewer_1730759632290794\"),{backgroundColor:\"white\"});\n",
       "viewer_1730759632290794.zoomTo();\n",
       "\tviewer_1730759632290794.addModel(\"@<TRIPOS>MOLECULE\\nRES\\n32 36 1 0 1\\nSMALL\\nNO_CHARGES\\n@<TRIPOS>CRYSIN\\n   14.3262    11.8686     5.5766    90.0000    90.0000    90.0000 1 1\\n@<TRIPOS>ATOM\\n       1 C0           2.9346    -2.3178     0.0145 C0            1 RES     \\n       2 C0           3.5794    -1.0951    -0.0880 C0            1 RES     \\n       3 C0           2.8367     0.0842    -0.1895 C0            1 RES     \\n       4 C0           3.5082     1.3054    -0.2918 C0            1 RES     \\n       5 C0           2.7920     2.4879    -0.3931 C0            1 RES     \\n       6 C0           1.4002     2.4716    -0.3942 C0            1 RES     \\n       7 C0           0.6754     1.2552    -0.2930 C0            1 RES     \\n       8 C0          -0.7487     1.2130    -0.2929 C0            1 RES     \\n       9 C0          -1.5443     2.3843    -0.3931 C0            1 RES     \\n      10 C0          -2.9346     2.3180    -0.3919 C0            1 RES     \\n      11 C0          -3.5794     1.0951    -0.2920 C0            1 RES     \\n      12 C0          -2.8368    -0.0843    -0.1908 C0            1 RES     \\n      13 C0          -3.5082    -1.3057    -0.0910 C0            1 RES     \\n      14 C0          -2.7920    -2.4881     0.0107 C0            1 RES     \\n      15 C0          -1.4002    -2.4716     0.0144 C0            1 RES     \\n      16 C0          -0.6754    -1.2551    -0.0853 C0            1 RES     \\n      17 C0           0.7486    -1.2128    -0.0845 C0            1 RES     \\n      18 C0           1.5443    -2.3840     0.0169 C0            1 RES     \\n      19 C0           1.4130     0.0420    -0.1890 C0            1 RES     \\n      20 C0          -1.4129    -0.0419    -0.1896 C0            1 RES     \\n      21 H1           3.5180    -3.2267     0.0931 H1            1 RES     \\n      22 H1           4.6631    -1.0713    -0.0878 H1            1 RES     \\n      23 H1           4.5914     1.3458    -0.2933 H1            1 RES     \\n      24 H1           3.3205     3.4296    -0.4719 H1            1 RES     \\n      25 H1           0.9280     3.4343    -0.4766 H1            1 RES     \\n      26 H1          -1.1300     3.3734    -0.4744 H1            1 RES     \\n      27 H1          -3.5180     3.2269    -0.4696 H1            1 RES     \\n      28 H1          -4.6631     1.0711    -0.2937 H1            1 RES     \\n      29 H1          -4.5913    -1.3462    -0.0916 H1            1 RES     \\n      30 H1          -3.3205    -3.4300     0.0877 H1            1 RES     \\n      31 H1          -0.9280    -3.4343     0.0967 H1            1 RES     \\n      32 H1           1.1299    -3.3730     0.0999 H1            1 RES     \\n@<TRIPOS>BOND\\n       1        1        2 1\\n       2        1       18 1\\n       3        1       21 1\\n       4        2        3 1\\n       5        2       22 1\\n       6        3        4 1\\n       7        3       19 1\\n       8        4        5 1\\n       9        4       23 1\\n      10        5        6 1\\n      11        5       24 1\\n      12        6        7 1\\n      13        6       25 1\\n      14        7        8 1\\n      15        7       19 1\\n      16        8        9 1\\n      17        8       20 1\\n      18        9       10 1\\n      19        9       26 1\\n      20       10       11 1\\n      21       10       27 1\\n      22       11       12 1\\n      23       11       28 1\\n      24       12       13 1\\n      25       12       20 1\\n      26       13       14 1\\n      27       13       29 1\\n      28       14       15 1\\n      29       14       30 1\\n      30       15       16 1\\n      31       15       31 1\\n      32       16       17 1\\n      33       16       20 1\\n      34       17       18 1\\n      35       17       19 1\\n      36       18       32 1\\n@<TRIPOS>SUBSTRUCTURE\\n       1 RES             1 RESIDUE    0 **** ROOT      0\\n\",\"mol2\");\n",
       "\tviewer_1730759632290794.setStyle({\"stick\": {\"radius\": 0.18, \"color\": \"grey\"}, \"sphere\": {\"scale\": 0.3, \"colorscheme\": {}}});\n",
       "\tviewer_1730759632290794.zoomTo();\n",
       "viewer_1730759632290794.render();\n",
       "});\n",
       "</script>"
      ]
     },
     "metadata": {},
     "output_type": "display_data"
    },
    {
     "data": {
      "text/plain": [
       "<py3Dmol.view at 0x16c273d30>"
      ]
     },
     "execution_count": 18,
     "metadata": {},
     "output_type": "execute_result"
    }
   ],
   "source": [
    "per.energy_minimize()\n",
    "per.visualize()"
   ]
  },
  {
   "cell_type": "code",
   "execution_count": 19,
   "id": "7564c709-bf9d-4473-83f8-1349a2bfcff3",
   "metadata": {},
   "outputs": [
    {
     "name": "stdout",
     "output_type": "stream",
     "text": [
      "Added 0 hydrogens.\n"
     ]
    },
    {
     "data": {
      "application/3dmoljs_load.v0": "<div id=\"3dmolviewer_17307596379468539\"  style=\"position: relative; width: 640px; height: 480px;\">\n        <p id=\"3dmolwarning_17307596379468539\" style=\"background-color:#ffcccc;color:black\">3Dmol.js failed to load for some reason.  Please check your browser console for error messages.<br></p>\n        </div>\n<script>\n\nvar loadScriptAsync = function(uri){\n  return new Promise((resolve, reject) => {\n    //this is to ignore the existence of requirejs amd\n    var savedexports, savedmodule;\n    if (typeof exports !== 'undefined') savedexports = exports;\n    else exports = {}\n    if (typeof module !== 'undefined') savedmodule = module;\n    else module = {}\n\n    var tag = document.createElement('script');\n    tag.src = uri;\n    tag.async = true;\n    tag.onload = () => {\n        exports = savedexports;\n        module = savedmodule;\n        resolve();\n    };\n  var firstScriptTag = document.getElementsByTagName('script')[0];\n  firstScriptTag.parentNode.insertBefore(tag, firstScriptTag);\n});\n};\n\nif(typeof $3Dmolpromise === 'undefined') {\n$3Dmolpromise = null;\n  $3Dmolpromise = loadScriptAsync('https://cdnjs.cloudflare.com/ajax/libs/3Dmol/2.3.0/3Dmol-min.js');\n}\n\nvar viewer_17307596379468539 = null;\nvar warn = document.getElementById(\"3dmolwarning_17307596379468539\");\nif(warn) {\n    warn.parentNode.removeChild(warn);\n}\n$3Dmolpromise.then(function() {\nviewer_17307596379468539 = $3Dmol.createViewer(document.getElementById(\"3dmolviewer_17307596379468539\"),{backgroundColor:\"white\"});\nviewer_17307596379468539.zoomTo();\n\tviewer_17307596379468539.addModel(\"@<TRIPOS>MOLECULE\\nRES\\n32 36 1 0 1\\nSMALL\\nNO_CHARGES\\n@<TRIPOS>CRYSIN\\n   14.3262    11.8686     5.5766    90.0000    90.0000    90.0000 1 1\\n@<TRIPOS>ATOM\\n       1 C0           2.9346    -2.3178     0.0145 C0            1 RES     \\n       2 C0           3.5794    -1.0951    -0.0880 C0            1 RES     \\n       3 C0           2.8367     0.0842    -0.1895 C0            1 RES     \\n       4 C0           3.5082     1.3054    -0.2918 C0            1 RES     \\n       5 C0           2.7920     2.4879    -0.3931 C0            1 RES     \\n       6 C0           1.4002     2.4716    -0.3942 C0            1 RES     \\n       7 C0           0.6754     1.2552    -0.2930 C0            1 RES     \\n       8 C0          -0.7487     1.2130    -0.2929 C0            1 RES     \\n       9 C0          -1.5443     2.3843    -0.3931 C0            1 RES     \\n      10 C0          -2.9346     2.3180    -0.3919 C0            1 RES     \\n      11 C0          -3.5794     1.0951    -0.2920 C0            1 RES     \\n      12 C0          -2.8368    -0.0843    -0.1908 C0            1 RES     \\n      13 C0          -3.5082    -1.3057    -0.0910 C0            1 RES     \\n      14 C0          -2.7920    -2.4881     0.0107 C0            1 RES     \\n      15 C0          -1.4002    -2.4716     0.0144 C0            1 RES     \\n      16 C0          -0.6754    -1.2551    -0.0853 C0            1 RES     \\n      17 C0           0.7486    -1.2128    -0.0845 C0            1 RES     \\n      18 C0           1.5443    -2.3840     0.0169 C0            1 RES     \\n      19 C0           1.4130     0.0420    -0.1890 C0            1 RES     \\n      20 C0          -1.4129    -0.0419    -0.1896 C0            1 RES     \\n      21 H1           3.5180    -3.2267     0.0931 H1            1 RES     \\n      22 H1           4.6631    -1.0713    -0.0878 H1            1 RES     \\n      23 H1           4.5914     1.3458    -0.2933 H1            1 RES     \\n      24 H1           3.3205     3.4296    -0.4719 H1            1 RES     \\n      25 H1           0.9280     3.4343    -0.4766 H1            1 RES     \\n      26 H1          -1.1300     3.3734    -0.4744 H1            1 RES     \\n      27 H1          -3.5180     3.2269    -0.4696 H1            1 RES     \\n      28 H1          -4.6631     1.0711    -0.2937 H1            1 RES     \\n      29 H1          -4.5913    -1.3462    -0.0916 H1            1 RES     \\n      30 H1          -3.3205    -3.4300     0.0877 H1            1 RES     \\n      31 H1          -0.9280    -3.4343     0.0967 H1            1 RES     \\n      32 H1           1.1299    -3.3730     0.0999 H1            1 RES     \\n@<TRIPOS>BOND\\n       1        1        2 1\\n       2        1       18 1\\n       3        1       21 1\\n       4        2        3 1\\n       5        2       22 1\\n       6        3        4 1\\n       7        3       19 1\\n       8        4        5 1\\n       9        4       23 1\\n      10        5        6 1\\n      11        5       24 1\\n      12        6        7 1\\n      13        6       25 1\\n      14        7        8 1\\n      15        7       19 1\\n      16        8        9 1\\n      17        8       20 1\\n      18        9       10 1\\n      19        9       26 1\\n      20       10       11 1\\n      21       10       27 1\\n      22       11       12 1\\n      23       11       28 1\\n      24       12       13 1\\n      25       12       20 1\\n      26       13       14 1\\n      27       13       29 1\\n      28       14       15 1\\n      29       14       30 1\\n      30       15       16 1\\n      31       15       31 1\\n      32       16       17 1\\n      33       16       20 1\\n      34       17       18 1\\n      35       17       19 1\\n      36       18       32 1\\n@<TRIPOS>SUBSTRUCTURE\\n       1 RES             1 RESIDUE    0 **** ROOT      0\\n\",\"mol2\");\n\tviewer_17307596379468539.setStyle({\"stick\": {\"radius\": 0.2, \"opacity\": 0.6, \"color\": \"grey\"}, \"sphere\": {\"scale\": 0.3, \"opacity\": 0.6, \"colorscheme\": {\"_b\": \"blue\", \"_B\": \"blue\", \"_s\": \"orange\", \"_S\": \"orange\"}}});\n\tviewer_17307596379468539.addModel(\"@<TRIPOS>MOLECULE\\nRES\\n1 0 1 0 1\\nSMALL\\nNO_CHARGES\\n@<TRIPOS>CRYSIN\\n   15.0000    15.0000    15.0000    90.0000    90.0000    90.0000 1 1\\n@<TRIPOS>ATOM\\n       1 _B          -0.0000     0.0000    -0.1898 _B            1 RES     \\n@<TRIPOS>BOND\\n@<TRIPOS>SUBSTRUCTURE\\n       1 RES             1 RESIDUE    0 **** ROOT      0\\n\",\"mol2\");\n\tviewer_17307596379468539.setStyle({\"atom\": [\"_B\"]},{\"stick\": {\"radius\": 0.13999999999999999, \"opacity\": 1, \"color\": \"grey\"}, \"sphere\": {\"scale\": 0.7, \"opacity\": 1, \"colorscheme\": {\"_b\": \"blue\", \"_B\": \"blue\", \"_s\": \"orange\", \"_S\": \"orange\"}}});\n\tviewer_17307596379468539.zoomTo();\nviewer_17307596379468539.render();\n});\n</script>",
      "text/html": [
       "<div id=\"3dmolviewer_17307596379468539\"  style=\"position: relative; width: 640px; height: 480px;\">\n",
       "        <p id=\"3dmolwarning_17307596379468539\" style=\"background-color:#ffcccc;color:black\">3Dmol.js failed to load for some reason.  Please check your browser console for error messages.<br></p>\n",
       "        </div>\n",
       "<script>\n",
       "\n",
       "var loadScriptAsync = function(uri){\n",
       "  return new Promise((resolve, reject) => {\n",
       "    //this is to ignore the existence of requirejs amd\n",
       "    var savedexports, savedmodule;\n",
       "    if (typeof exports !== 'undefined') savedexports = exports;\n",
       "    else exports = {}\n",
       "    if (typeof module !== 'undefined') savedmodule = module;\n",
       "    else module = {}\n",
       "\n",
       "    var tag = document.createElement('script');\n",
       "    tag.src = uri;\n",
       "    tag.async = true;\n",
       "    tag.onload = () => {\n",
       "        exports = savedexports;\n",
       "        module = savedmodule;\n",
       "        resolve();\n",
       "    };\n",
       "  var firstScriptTag = document.getElementsByTagName('script')[0];\n",
       "  firstScriptTag.parentNode.insertBefore(tag, firstScriptTag);\n",
       "});\n",
       "};\n",
       "\n",
       "if(typeof $3Dmolpromise === 'undefined') {\n",
       "$3Dmolpromise = null;\n",
       "  $3Dmolpromise = loadScriptAsync('https://cdnjs.cloudflare.com/ajax/libs/3Dmol/2.3.0/3Dmol-min.js');\n",
       "}\n",
       "\n",
       "var viewer_17307596379468539 = null;\n",
       "var warn = document.getElementById(\"3dmolwarning_17307596379468539\");\n",
       "if(warn) {\n",
       "    warn.parentNode.removeChild(warn);\n",
       "}\n",
       "$3Dmolpromise.then(function() {\n",
       "viewer_17307596379468539 = $3Dmol.createViewer(document.getElementById(\"3dmolviewer_17307596379468539\"),{backgroundColor:\"white\"});\n",
       "viewer_17307596379468539.zoomTo();\n",
       "\tviewer_17307596379468539.addModel(\"@<TRIPOS>MOLECULE\\nRES\\n32 36 1 0 1\\nSMALL\\nNO_CHARGES\\n@<TRIPOS>CRYSIN\\n   14.3262    11.8686     5.5766    90.0000    90.0000    90.0000 1 1\\n@<TRIPOS>ATOM\\n       1 C0           2.9346    -2.3178     0.0145 C0            1 RES     \\n       2 C0           3.5794    -1.0951    -0.0880 C0            1 RES     \\n       3 C0           2.8367     0.0842    -0.1895 C0            1 RES     \\n       4 C0           3.5082     1.3054    -0.2918 C0            1 RES     \\n       5 C0           2.7920     2.4879    -0.3931 C0            1 RES     \\n       6 C0           1.4002     2.4716    -0.3942 C0            1 RES     \\n       7 C0           0.6754     1.2552    -0.2930 C0            1 RES     \\n       8 C0          -0.7487     1.2130    -0.2929 C0            1 RES     \\n       9 C0          -1.5443     2.3843    -0.3931 C0            1 RES     \\n      10 C0          -2.9346     2.3180    -0.3919 C0            1 RES     \\n      11 C0          -3.5794     1.0951    -0.2920 C0            1 RES     \\n      12 C0          -2.8368    -0.0843    -0.1908 C0            1 RES     \\n      13 C0          -3.5082    -1.3057    -0.0910 C0            1 RES     \\n      14 C0          -2.7920    -2.4881     0.0107 C0            1 RES     \\n      15 C0          -1.4002    -2.4716     0.0144 C0            1 RES     \\n      16 C0          -0.6754    -1.2551    -0.0853 C0            1 RES     \\n      17 C0           0.7486    -1.2128    -0.0845 C0            1 RES     \\n      18 C0           1.5443    -2.3840     0.0169 C0            1 RES     \\n      19 C0           1.4130     0.0420    -0.1890 C0            1 RES     \\n      20 C0          -1.4129    -0.0419    -0.1896 C0            1 RES     \\n      21 H1           3.5180    -3.2267     0.0931 H1            1 RES     \\n      22 H1           4.6631    -1.0713    -0.0878 H1            1 RES     \\n      23 H1           4.5914     1.3458    -0.2933 H1            1 RES     \\n      24 H1           3.3205     3.4296    -0.4719 H1            1 RES     \\n      25 H1           0.9280     3.4343    -0.4766 H1            1 RES     \\n      26 H1          -1.1300     3.3734    -0.4744 H1            1 RES     \\n      27 H1          -3.5180     3.2269    -0.4696 H1            1 RES     \\n      28 H1          -4.6631     1.0711    -0.2937 H1            1 RES     \\n      29 H1          -4.5913    -1.3462    -0.0916 H1            1 RES     \\n      30 H1          -3.3205    -3.4300     0.0877 H1            1 RES     \\n      31 H1          -0.9280    -3.4343     0.0967 H1            1 RES     \\n      32 H1           1.1299    -3.3730     0.0999 H1            1 RES     \\n@<TRIPOS>BOND\\n       1        1        2 1\\n       2        1       18 1\\n       3        1       21 1\\n       4        2        3 1\\n       5        2       22 1\\n       6        3        4 1\\n       7        3       19 1\\n       8        4        5 1\\n       9        4       23 1\\n      10        5        6 1\\n      11        5       24 1\\n      12        6        7 1\\n      13        6       25 1\\n      14        7        8 1\\n      15        7       19 1\\n      16        8        9 1\\n      17        8       20 1\\n      18        9       10 1\\n      19        9       26 1\\n      20       10       11 1\\n      21       10       27 1\\n      22       11       12 1\\n      23       11       28 1\\n      24       12       13 1\\n      25       12       20 1\\n      26       13       14 1\\n      27       13       29 1\\n      28       14       15 1\\n      29       14       30 1\\n      30       15       16 1\\n      31       15       31 1\\n      32       16       17 1\\n      33       16       20 1\\n      34       17       18 1\\n      35       17       19 1\\n      36       18       32 1\\n@<TRIPOS>SUBSTRUCTURE\\n       1 RES             1 RESIDUE    0 **** ROOT      0\\n\",\"mol2\");\n",
       "\tviewer_17307596379468539.setStyle({\"stick\": {\"radius\": 0.2, \"opacity\": 0.6, \"color\": \"grey\"}, \"sphere\": {\"scale\": 0.3, \"opacity\": 0.6, \"colorscheme\": {\"_b\": \"blue\", \"_B\": \"blue\", \"_s\": \"orange\", \"_S\": \"orange\"}}});\n",
       "\tviewer_17307596379468539.addModel(\"@<TRIPOS>MOLECULE\\nRES\\n1 0 1 0 1\\nSMALL\\nNO_CHARGES\\n@<TRIPOS>CRYSIN\\n   15.0000    15.0000    15.0000    90.0000    90.0000    90.0000 1 1\\n@<TRIPOS>ATOM\\n       1 _B          -0.0000     0.0000    -0.1898 _B            1 RES     \\n@<TRIPOS>BOND\\n@<TRIPOS>SUBSTRUCTURE\\n       1 RES             1 RESIDUE    0 **** ROOT      0\\n\",\"mol2\");\n",
       "\tviewer_17307596379468539.setStyle({\"atom\": [\"_B\"]},{\"stick\": {\"radius\": 0.13999999999999999, \"opacity\": 1, \"color\": \"grey\"}, \"sphere\": {\"scale\": 0.7, \"opacity\": 1, \"colorscheme\": {\"_b\": \"blue\", \"_B\": \"blue\", \"_s\": \"orange\", \"_S\": \"orange\"}}});\n",
       "\tviewer_17307596379468539.zoomTo();\n",
       "viewer_17307596379468539.render();\n",
       "});\n",
       "</script>"
      ]
     },
     "metadata": {},
     "output_type": "display_data"
    },
    {
     "data": {
      "application/3dmoljs_load.v0": "<div id=\"3dmolviewer_17307596379503832\"  style=\"position: relative; width: 640px; height: 480px;\">\n        <p id=\"3dmolwarning_17307596379503832\" style=\"background-color:#ffcccc;color:black\">3Dmol.js failed to load for some reason.  Please check your browser console for error messages.<br></p>\n        </div>\n<script>\n\nvar loadScriptAsync = function(uri){\n  return new Promise((resolve, reject) => {\n    //this is to ignore the existence of requirejs amd\n    var savedexports, savedmodule;\n    if (typeof exports !== 'undefined') savedexports = exports;\n    else exports = {}\n    if (typeof module !== 'undefined') savedmodule = module;\n    else module = {}\n\n    var tag = document.createElement('script');\n    tag.src = uri;\n    tag.async = true;\n    tag.onload = () => {\n        exports = savedexports;\n        module = savedmodule;\n        resolve();\n    };\n  var firstScriptTag = document.getElementsByTagName('script')[0];\n  firstScriptTag.parentNode.insertBefore(tag, firstScriptTag);\n});\n};\n\nif(typeof $3Dmolpromise === 'undefined') {\n$3Dmolpromise = null;\n  $3Dmolpromise = loadScriptAsync('https://cdnjs.cloudflare.com/ajax/libs/3Dmol/2.3.0/3Dmol-min.js');\n}\n\nvar viewer_17307596379503832 = null;\nvar warn = document.getElementById(\"3dmolwarning_17307596379503832\");\nif(warn) {\n    warn.parentNode.removeChild(warn);\n}\n$3Dmolpromise.then(function() {\nviewer_17307596379503832 = $3Dmol.createViewer(document.getElementById(\"3dmolviewer_17307596379503832\"),{backgroundColor:\"white\"});\nviewer_17307596379503832.zoomTo();\n\tviewer_17307596379503832.addModel(\"@<TRIPOS>MOLECULE\\nRES\\n1 0 1 0 1\\nSMALL\\nNO_CHARGES\\n@<TRIPOS>CRYSIN\\n   15.0000    15.0000    15.0000    90.0000    90.0000    90.0000 1 1\\n@<TRIPOS>ATOM\\n       1 _B          -0.0000     0.0000    -0.1898 _B            1 RES     \\n@<TRIPOS>BOND\\n@<TRIPOS>SUBSTRUCTURE\\n       1 RES             1 RESIDUE    0 **** ROOT      0\\n\",\"mol2\");\n\tviewer_17307596379503832.setStyle({\"atom\": [\"_B\"]},{\"stick\": {\"radius\": 0.13999999999999999, \"opacity\": 1, \"color\": \"grey\"}, \"sphere\": {\"scale\": 0.7, \"opacity\": 1, \"colorscheme\": {\"_b\": \"blue\", \"_B\": \"blue\", \"_s\": \"orange\", \"_S\": \"orange\"}}});\n\tviewer_17307596379503832.zoomTo();\nviewer_17307596379503832.render();\n});\n</script>",
      "text/html": [
       "<div id=\"3dmolviewer_17307596379503832\"  style=\"position: relative; width: 640px; height: 480px;\">\n",
       "        <p id=\"3dmolwarning_17307596379503832\" style=\"background-color:#ffcccc;color:black\">3Dmol.js failed to load for some reason.  Please check your browser console for error messages.<br></p>\n",
       "        </div>\n",
       "<script>\n",
       "\n",
       "var loadScriptAsync = function(uri){\n",
       "  return new Promise((resolve, reject) => {\n",
       "    //this is to ignore the existence of requirejs amd\n",
       "    var savedexports, savedmodule;\n",
       "    if (typeof exports !== 'undefined') savedexports = exports;\n",
       "    else exports = {}\n",
       "    if (typeof module !== 'undefined') savedmodule = module;\n",
       "    else module = {}\n",
       "\n",
       "    var tag = document.createElement('script');\n",
       "    tag.src = uri;\n",
       "    tag.async = true;\n",
       "    tag.onload = () => {\n",
       "        exports = savedexports;\n",
       "        module = savedmodule;\n",
       "        resolve();\n",
       "    };\n",
       "  var firstScriptTag = document.getElementsByTagName('script')[0];\n",
       "  firstScriptTag.parentNode.insertBefore(tag, firstScriptTag);\n",
       "});\n",
       "};\n",
       "\n",
       "if(typeof $3Dmolpromise === 'undefined') {\n",
       "$3Dmolpromise = null;\n",
       "  $3Dmolpromise = loadScriptAsync('https://cdnjs.cloudflare.com/ajax/libs/3Dmol/2.3.0/3Dmol-min.js');\n",
       "}\n",
       "\n",
       "var viewer_17307596379503832 = null;\n",
       "var warn = document.getElementById(\"3dmolwarning_17307596379503832\");\n",
       "if(warn) {\n",
       "    warn.parentNode.removeChild(warn);\n",
       "}\n",
       "$3Dmolpromise.then(function() {\n",
       "viewer_17307596379503832 = $3Dmol.createViewer(document.getElementById(\"3dmolviewer_17307596379503832\"),{backgroundColor:\"white\"});\n",
       "viewer_17307596379503832.zoomTo();\n",
       "\tviewer_17307596379503832.addModel(\"@<TRIPOS>MOLECULE\\nRES\\n1 0 1 0 1\\nSMALL\\nNO_CHARGES\\n@<TRIPOS>CRYSIN\\n   15.0000    15.0000    15.0000    90.0000    90.0000    90.0000 1 1\\n@<TRIPOS>ATOM\\n       1 _B          -0.0000     0.0000    -0.1898 _B            1 RES     \\n@<TRIPOS>BOND\\n@<TRIPOS>SUBSTRUCTURE\\n       1 RES             1 RESIDUE    0 **** ROOT      0\\n\",\"mol2\");\n",
       "\tviewer_17307596379503832.setStyle({\"atom\": [\"_B\"]},{\"stick\": {\"radius\": 0.13999999999999999, \"opacity\": 1, \"color\": \"grey\"}, \"sphere\": {\"scale\": 0.7, \"opacity\": 1, \"colorscheme\": {\"_b\": \"blue\", \"_B\": \"blue\", \"_s\": \"orange\", \"_S\": \"orange\"}}});\n",
       "\tviewer_17307596379503832.zoomTo();\n",
       "viewer_17307596379503832.render();\n",
       "});\n",
       "</script>"
      ]
     },
     "metadata": {},
     "output_type": "display_data"
    }
   ],
   "source": [
    "cg_beads = {\"_B\": \"c1cc2cccc3c4cccc5cccc(c(c1)c23)c45\"}\n",
    "\n",
    "cg_p3ht = CG_Compound(per, cg_beads, allow_overlap=True, add_hydrogens=True)\n",
    "\n",
    "cg_p3ht.visualize(color_scheme=p3ht_colors, show_atomistic=True).show()\n",
    "cg_p3ht.visualize(color_scheme=p3ht_colors).show()\n"
   ]
  },
  {
   "cell_type": "code",
   "execution_count": null,
   "id": "94e31c41-cb8b-47a6-97b1-e804434b256f",
   "metadata": {},
   "outputs": [],
   "source": []
  }
 ],
 "metadata": {
  "kernelspec": {
   "display_name": "Python 3 (ipykernel)",
   "language": "python",
   "name": "python3"
  },
  "language_info": {
   "codemirror_mode": {
    "name": "ipython",
    "version": 3
   },
   "file_extension": ".py",
   "mimetype": "text/x-python",
   "name": "python",
   "nbconvert_exporter": "python",
   "pygments_lexer": "ipython3",
   "version": "3.10.14"
  }
 },
 "nbformat": 4,
 "nbformat_minor": 5
}
